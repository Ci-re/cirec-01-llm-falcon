{
 "cells": [
  {
   "cell_type": "code",
   "execution_count": 1,
   "metadata": {},
   "outputs": [
    {
     "name": "stderr",
     "output_type": "stream",
     "text": [
      "/home/cirec/Documents/cirec-01-llm-falcon/env/lib/python3.12/site-packages/tqdm/auto.py:21: TqdmWarning: IProgress not found. Please update jupyter and ipywidgets. See https://ipywidgets.readthedocs.io/en/stable/user_install.html\n",
      "  from .autonotebook import tqdm as notebook_tqdm\n"
     ]
    }
   ],
   "source": [
    "import pandas as pd\n",
    "import numpy as np\n",
    "import os\n",
    "from datasets import load_dataset\n",
    "from dotenv import load_dotenv\n",
    "import google.generativeai as genai\n",
    "from minsearch import Index"
   ]
  },
  {
   "cell_type": "code",
   "execution_count": 2,
   "metadata": {},
   "outputs": [],
   "source": [
    "load_dotenv()\n",
    "genai.configure(api_key=os.environ[\"API_KEY\"])"
   ]
  },
  {
   "cell_type": "code",
   "execution_count": 3,
   "metadata": {},
   "outputs": [
    {
     "name": "stdout",
     "output_type": "stream",
     "text": [
      "{'category': 'Questions about God', 'sub.category': 'The Nature of God', 'question': 'What is God like?', 'answer': 'Answer\\nEvery culture in the history of the world has had some concept of what God is like. Some have assumed that God is in control of the weather and have made images of a storm god throwing lightning bolts around (Baal worship in Canaan). Some have assumed that God is very powerful, and so they worshiped the most powerful thing they could see, the sun (Ra worship in Egypt). Others have assumed that God is everywhere and therefore have worshiped everything (pantheism in Stoic philosophy). Some have assumed that God is unknowable and have turned to agnosticism or, just to cover their bases, have worshiped “An Unknown God” (Acts 17:23).\\nThe problem with each of these assumptions is that they only get part of the picture of who God is. Yes, God is in control of the weather, but He is also in control of so much more. He is powerful, but much more powerful than the sun. He is everywhere, but He also transcends everything. And, thankfully, while there are some things we don’t understand about God, He is knowable. In fact, He has revealed everything we need to know about Him in the Bible. God wants to be known (Psalm 46:10).\\nNorman Geisler and Frank Turek, in their book I Don’t Have Enough Faith to be an Atheist, state the following:\\n- Truth is discovered, not invented. It exists independent of anyone’s knowledge of it. (Gravity existed prior to Newton.)\\n- Truth is transcultural; if something is true, it is true for all people, in all places, at all times. (2+2=4 for everyone, everywhere, at every time.)\\n- Truth is unchanging even though our beliefs about truth change. (When we began to believe the earth was round instead of flat, the truth about the earth didn’t change, only our belief about the earth changed.)\\nTherefore, as we try to ascertain what God is like, we are simply trying to discover truths already there.\\nFirst, God exists. The Bible never argues for God’s existence; it simply states it. The fact that God is should be self-evident through the works He has created (Psalm 19:1-6). Genesis 1:1 says, “In the beginning God created the heavens and the earth.” This is a simple yet powerful statement. The universe includes time, space, matter, and energy, so that all discernible elements in the universe came into being by God’s decree. Albert Einstein’s Theory of General Relativity states that all time, space, and matter had a definite, simultaneous beginning. What has a beginning has a cause. That is the law of causality, and the fact of God easily explains the ultimate cause. God is the creator of all that is, and so we know something else about Him: He is almighty (Joel 1:15), He is eternally self-existent (Psalm 90:2), and He exists above and beyond all of creation (Psalm 97:9).\\nThe same God who made all things also controls those things. He is sovereign (Isaiah 46:10). He who creates an item owns it and has power to utilize it as he sees fit. The ultimate cause has ultimate authority. In Isaiah 44:24 God presents Himself as the One “who has made all things, who alone stretched out the heavens, who spread out the earth by myself.” The next verse says that He “overthrows the learning of the wise and turns it into nonsense.” This is obviously a God with power to do as He pleases.\\nGod is spirit (John 4:24) and cannot be represented by any created thing; in fact, the attempt to create such a representation is blasphemous (Exodus 20:4-6). God is unchanging (Malachi 3:6). God is all-knowing (1 John 3:20) and all-present (Psalm 139:7-13). He is holy and glorious (Isaiah 6:3). He is just (Deuteronomy 32:4) and will justly judge all sin and unrighteousness (Jude 1:15).\\nThe judgment of God highlights another truth about what He is like: He is a moral being. C. S. Lewis, in Mere Christianity, makes the case that, just as there exists observable laws of nature (gravity, entropy, etc.), there are also observable laws of morality. He writes, “First, that human beings, all over the earth, have this curious idea that they ought to behave in a certain way, and cannot really get rid of it. Secondly, that they do not in fact behave in that way. They know the Law of Nature; they break it. These two facts are the foundation of all clear thinking about ourselves and the universe we live in.” Despite varied ideas about what constitutes right and wrong, there is a universal belief that right and wrong exist, and this is a reflection of the God who made us (Genesis 1:26; Ecclesiastes 3:11).\\nWhen Jesus entered our world, He showed us the Father (John 14:7-9). Through Jesus, we understand that God seeks to save the lost (Luke 19:10). He is compassionate (Matthew 14:14), He is merciful (Luke 6:36), and He is forgiving (Matthew 9:1-8). At the same time, Jesus shows us that God will judge unrepentant sin (Luke 13:5) and that God is angry with those who live falsely and refuse to acknowledge the truth (Matthew 23).\\nMost of all, Jesus showed us that God is love (1 John 4:8). It was in love that God sent His Son into the world (John 3:16). It was in love that Jesus died on the cross for sinners (Romans 5:8). It is in love that He still calls sinners to repentance to experience the grace of God and to be called the children of God (1 John 3:1).', 'source': 'https://www.gotquestions.org/what-is-God-like.html'}\n"
     ]
    }
   ],
   "source": [
    "# Prepare dataset\n",
    "# using gotquestions dataset\n",
    "\n",
    "import json\n",
    "\n",
    "with open(\"datasets/questions_answer.json\", 'rt') as f_in:\n",
    "    data = json.load(f_in)\n",
    "\n",
    "print(data[0])"
   ]
  },
  {
   "cell_type": "code",
   "execution_count": 4,
   "metadata": {},
   "outputs": [
    {
     "data": {
      "text/plain": [
       "{'category': 'Questions about God',\n",
       " 'sub.category': 'The Nature of God',\n",
       " 'question': 'What are the attributes of God?',\n",
       " 'answer': 'The Bible, God’s Word, tells us what God is like and what He is not like. Without the authority of the Bible, any attempt to explain God’s attributes (inherent qualities) would be no better than an opinion, which by itself is often incorrect, especially in understanding God (Job 42:7). To say that it is important for us to try to understand what God is like is a huge understatement. Failure to do so can cause us to set up, chase after, and worship false gods contrary to His will (Exodus 20:3-5).\\n\\nOnly what God has chosen to reveal of Himself can be known. One of God’s attributes or qualities is “light,” meaning that He is self-revealing in information of Himself (Isaiah 60:19; James 1:17). The fact that God has revealed knowledge of Himself should not be neglected (Hebrews 4:1). Creation, the Bible, and the Word made flesh (Jesus Christ) will help us to know what God is like.\\nLet’s start by understanding that God is our Creator and that we are a part of His creation (Genesis 1:1; Psalm 24:1) and are created in His image. Man is above the rest of creation and was given dominion over it (Genesis 1:26-28). Creation is marred by the fall but still offers a glimpse of God’s works (Genesis 3:17-18; Romans 1:19-20). By considering creation’s vastness, complexity, beauty, and order, we can have a sense of the awesomeness of God.\\nReading through some of the names of God can be helpful in our search of what God is like. They are as follows:\\nElohim - strong One, divine (Genesis 1:1)\\nAdonai - Lord, indicating a Master-to-servant relationship (Exodus 4:10, 13)\\nEl Elyon - Most High, the strongest One (Genesis 14:20)\\nEl Roi - the strong One who sees (Genesis 16:13)\\nEl Shaddai - Almighty God (Genesis 17:1)\\nEl Olam - Everlasting God (Isaiah 40:28)\\nYahweh - LORD “I AM,” meaning the eternal, self-existent God (Exodus 3:13, 14).\\nGod is eternal, meaning He had no beginning and His existence will never end. He is immortal and infinite (Deuteronomy 33:27; Psalm 90:2; 1 Timothy 1:17). God is immutable, meaning He is unchanging; this in turn means that God is absolutely reliable and trustworthy (Malachi 3:6; Numbers 23:19; Psalm 102:26, 27). God is incomparable; there is no one like Him in works or being. He is unequaled and perfect (2 Samuel 7:22; Psalm 86:8; Isaiah 40:25; Matthew 5:48). God is inscrutable, unfathomable, unsearchable, and past finding out as far as understanding Him completely (Isaiah 40:28; Psalm 145:3; Romans 11:33, 34).\\nGod is just; He is no respecter of persons in the sense of showing favoritism (Deuteronomy 32:4; Psalm 18:30). God is omnipotent; He is all-powerful and can do anything that pleases Him, but His actions will always be in accord with the rest of His character (Revelation 19:6; Jeremiah 32:17, 27). God is omnipresent, meaning He is present everywhere, but this does not mean that God is everything (Psalm 139:7-13; Jeremiah 23:23). God is omniscient, meaning He knows the past, present, and future, including what we are thinking at any given moment. Since He knows everything, His justice will always be administered fairly (Psalm 139:1-5; Proverbs 5:21).\\nGod is one; not only is there no other, but He is alone in being able to meet the deepest needs and longings of our hearts. God alone is worthy of our worship and devotion (Deuteronomy 6:4). God is righteous, meaning that God cannot and will not pass over wrongdoing. It is because of God’s righteousness and justice that, in order for our sins to be forgiven, Jesus had to experience God’s wrath when our sins were placed upon Him (Exodus 9:27; Matthew 27:45-46; Romans 3:21-26).\\nGod is sovereign, meaning He is supreme. All of His creation put together cannot thwart His purposes (Psalm 93:1; 95:3; Jeremiah 23:20). God is spirit, meaning He is invisible (John 1:18; 4:24). God is a Trinity. He is three in one, the same in substance, equal in power and glory. God is truth, He will remain incorruptible and cannot lie (Psalm 117:2; 1 Samuel 15:29).\\nGod is holy, separated from all moral defilement and hostile toward it. God sees all evil and it angers Him. God is referred to as a consuming fire (Isaiah 6:3; Habakkuk 1:13; Exodus 3:2, 4-5; Hebrews 12:29). God is gracious, and His grace includes His goodness, kindness, mercy, and love. If it were not for God’s grace, His holiness would exclude us from His presence. Thankfully, this is not the case, for He desires to know each of us personally (Exodus 34:6; Psalm 31:19; 1 Peter 1:3; John 3:16, 17:3).\\nSince God is an infinite Being, no human can fully answer this God-sized question, but through God’s Word, we can understand much about who God is and what He is like. May we all wholeheartedly continue to seek after Him (Jeremiah 29:13).',\n",
       " 'source': 'https://www.gotquestions.org/attributes-God.html'}"
      ]
     },
     "execution_count": 4,
     "metadata": {},
     "output_type": "execute_result"
    }
   ],
   "source": [
    "# Clean answer key in data\n",
    "for i in range(len(data)):\n",
    "    data[i]['answer'] = data[i]['answer'].replace('Answer\\n', '')\n",
    "\n",
    "data[3]"
   ]
  },
  {
   "cell_type": "code",
   "execution_count": 5,
   "metadata": {},
   "outputs": [
    {
     "data": {
      "text/plain": [
       "<minsearch.minsearch.Index at 0x7bdff5094d40>"
      ]
     },
     "execution_count": 5,
     "metadata": {},
     "output_type": "execute_result"
    }
   ],
   "source": [
    "\n",
    "index = Index(\n",
    "    text_fields = [\"question\", \"answer\", \"sub.category\"],\n",
    "    keyword_fields = [\"category\"]\n",
    ")\n",
    "\n",
    "index.fit(data)"
   ]
  },
  {
   "cell_type": "code",
   "execution_count": 6,
   "metadata": {},
   "outputs": [],
   "source": [
    "def search(query):\n",
    "# filter_dict = {\"category\": \"Questions about God\"}\n",
    "    boost_dict = {\"question\": 3, \"answer\": 1, \"sub.category\": 1}\n",
    "\n",
    "    return index.search(query, boost_dict, num_results=5)"
   ]
  },
  {
   "cell_type": "code",
   "execution_count": 7,
   "metadata": {},
   "outputs": [],
   "source": [
    "def build_prompt(query, search_results):\n",
    "    prompt_template = \"\"\"\n",
    "    You are a spiritual assistant, your goal is to answer questions about christian spirituality like God, Jesus, Holy Spirit, and Life as a believer of this spirituality.\n",
    "    Answer the QUESTIONS based on the CONTEXT when answering the QUESTION.\n",
    "    Answer the questions as if you are a spiritual assistant using the CONTEXT given. Don't provide personal opinions or beliefs.\n",
    "    If the CONTEXT doesn't match or contain the answer, give NONE as the response.\n",
    "    \n",
    "    QUESTION : {question}\n",
    "    \n",
    "    CONTEXT: {context}\n",
    "    \n",
    "    \"\"\".strip()\n",
    "\n",
    "    context = \"\"\n",
    "    for doc in search_results:\n",
    "        context = f'{context}sub.category: {doc[\"sub.category\"]} \\nquestion: {doc[\"question\"]} \\nanswer: {doc[\"answer\"]}\\n\\n'\n",
    "\n",
    "    return prompt_template.format(question= query, context=search_results).strip()"
   ]
  },
  {
   "cell_type": "code",
   "execution_count": 8,
   "metadata": {},
   "outputs": [],
   "source": [
    "def llm(prompt):\n",
    "    model = genai.GenerativeModel(\"gemini-1.5-pro\")\n",
    "    result = model.generate_content(prompt)\n",
    "    return result.text\n",
    "    "
   ]
  },
  {
   "cell_type": "code",
   "execution_count": 9,
   "metadata": {},
   "outputs": [],
   "source": [
    "def rag(query):\n",
    "    results = search(query)\n",
    "    prompt = build_prompt(query, results)\n",
    "    return llm(prompt)"
   ]
  },
  {
   "cell_type": "code",
   "execution_count": 10,
   "metadata": {},
   "outputs": [
    {
     "data": {
      "text/plain": [
       "'To live a fulfilled life as a Christian means understanding that your best life is not to be found in this world, but in the world to come.  While non-Christians focus on maximizing their earthly experience, Christians find their greatest joy and fulfillment in their future with God in heaven. This involves prioritizing eternal treasures over earthly possessions and living a life of faith, obedience, and service to God.  It is not a life free of hardship, but one where trials are seen as opportunities for growth and where faith perseveres to the end.  This is achieved through a close relationship with God, nurtured by prayer and study of His Word, and fellowship with other believers.\\n'"
      ]
     },
     "execution_count": 10,
     "metadata": {},
     "output_type": "execute_result"
    }
   ],
   "source": [
    "rag(\"How do I live a fullfilled life?\")"
   ]
  },
  {
   "cell_type": "code",
   "execution_count": 11,
   "metadata": {},
   "outputs": [
    {
     "data": {
      "text/plain": [
       "ObjectApiResponse({'name': 'a261ab5c6127', 'cluster_name': 'docker-cluster', 'cluster_uuid': '4OAVz4ybTYeTVYzn1UcwhQ', 'version': {'number': '8.4.3', 'build_flavor': 'default', 'build_type': 'docker', 'build_hash': '42f05b9372a9a4a470db3b52817899b99a76ee73', 'build_date': '2022-10-04T07:17:24.662462378Z', 'build_snapshot': False, 'lucene_version': '9.3.0', 'minimum_wire_compatibility_version': '7.17.0', 'minimum_index_compatibility_version': '7.0.0'}, 'tagline': 'You Know, for Search'})"
      ]
     },
     "execution_count": 11,
     "metadata": {},
     "output_type": "execute_result"
    }
   ],
   "source": [
    "## Implementing Vector Search using elastic search\n",
    "\n",
    "from elasticsearch import Elasticsearch\n",
    "\n",
    "search_client = Elasticsearch(\"http://localhost:9200/\")\n",
    "search_client.info()"
   ]
  },
  {
   "cell_type": "code",
   "execution_count": 12,
   "metadata": {},
   "outputs": [
    {
     "data": {
      "text/plain": [
       "ObjectApiResponse({'acknowledged': True, 'shards_acknowledged': True, 'index': 'got_questions'})"
      ]
     },
     "execution_count": 12,
     "metadata": {},
     "output_type": "execute_result"
    }
   ],
   "source": [
    "index_settings = {\n",
    "    \"settings\": {\n",
    "        \"number_of_shards\": 1,\n",
    "        \"number_of_replicas\": 0\n",
    "    },\n",
    "    \"mappings\": {\n",
    "        \"properties\": {\n",
    "            \"answer\": {\"type\": \"text\"},\n",
    "            \"sub.category\": {\"type\": \"text\"},\n",
    "            \"question\": {\"type\": \"text\"},\n",
    "            \"category\": {\"type\": \"keyword\"} \n",
    "        }\n",
    "    }\n",
    "}\n",
    "\n",
    "# delete an index\n",
    "\n",
    "\n",
    "index_name = \"got_questions\"\n",
    "# search_client.indices.delete(index=index_name)\n",
    "search_client.indices.create(index=index_name, body=index_settings)\n"
   ]
  },
  {
   "cell_type": "code",
   "execution_count": 13,
   "metadata": {},
   "outputs": [
    {
     "name": "stderr",
     "output_type": "stream",
     "text": [
      "100%|██████████| 6398/6398 [01:30<00:00, 70.64it/s] \n"
     ]
    }
   ],
   "source": [
    "from tqdm import tqdm\n",
    "\n",
    "for doc in tqdm(data):\n",
    "    search_client.index(index=index_name, document=doc)\n"
   ]
  },
  {
   "cell_type": "code",
   "execution_count": 14,
   "metadata": {},
   "outputs": [],
   "source": [
    "def elastic_search(query):\n",
    "    result_docs = []\n",
    "    search_query = {\n",
    "        \"size\": 5,\n",
    "        \"query\": {\n",
    "            \"bool\": {\n",
    "                \"must\": {\n",
    "                    \"multi_match\": {\n",
    "                        \"query\": query,\n",
    "                        \"fields\": [\"question^3\", \"answer\", \"sub.category\"],\n",
    "                        \"type\": \"best_fields\"\n",
    "                    }\n",
    "                }\n",
    "            }\n",
    "        }\n",
    "    }\n",
    "    response = search_client.search(index=index_name, body=search_query)\n",
    "    result_docs.extend(hits['_source'] for hits in response['hits']['hits'])\n",
    "    return result_docs"
   ]
  },
  {
   "cell_type": "code",
   "execution_count": 16,
   "metadata": {},
   "outputs": [],
   "source": [
    "# elastic_search(\"The love of God is always merciful, what does tPrincipalities and powerhis mean?\")"
   ]
  },
  {
   "cell_type": "code",
   "execution_count": 21,
   "metadata": {},
   "outputs": [
    {
     "name": "stdout",
     "output_type": "stream",
     "text": [
      "The devil is a deceiver who “prowls around like a roaring lion seeking whom he may devour” (1 Peter 5:8).  He tempts humans to sin against God, appealing to the lust of the flesh, the lust of the eyes, and the pride of life (1 John 2:16).  He also fills people’s hearts with lies (Acts 5:3). He uses various tactics such as exploiting weaknesses, manipulating with false guilt, twisting Scripture, and deceiving.\n",
      "\n"
     ]
    }
   ],
   "source": [
    "query = \"Who is the devil and how does he ruin us as believers?\"\n",
    "search_query = elastic_search(query)\n",
    "prompt = build_prompt(query, search_query)\n",
    "answer = llm(prompt)\n",
    "print(answer)"
   ]
  },
  {
   "cell_type": "code",
   "execution_count": null,
   "metadata": {},
   "outputs": [],
   "source": [
    "# Vector search and Embeddings\n",
    "\n",
    "from sentence_transformers import SentenceTransformer\n",
    "\n",
    "model = SentenceTransformer(\"all-MiniLM-L6-v2\")\n",
    "model.encode(\"This is a simple sentence\")"
   ]
  },
  {
   "cell_type": "code",
   "execution_count": 28,
   "metadata": {},
   "outputs": [],
   "source": [
    "operations = []\n",
    "for doc in tqdm(data):\n",
    "    doc[\"answer_embedding\"] = model.encode(doc[\"answer\"]).tolist()\n",
    "    operations.append(doc)"
   ]
  },
  {
   "cell_type": "code",
   "execution_count": 31,
   "metadata": {},
   "outputs": [
    {
     "data": {
      "text/plain": [
       "384"
      ]
     },
     "execution_count": 31,
     "metadata": {},
     "output_type": "execute_result"
    }
   ],
   "source": [
    "len(model.encode(\"This is a simple sentence\"))"
   ]
  },
  {
   "cell_type": "code",
   "execution_count": 80,
   "metadata": {},
   "outputs": [],
   "source": [
    "index_settings = {\n",
    "    \"settings\": {\n",
    "        \"number_of_shards\": 1,\n",
    "        \"number_of_replicas\": 0\n",
    "    },\n",
    "    \"mappings\": {\n",
    "        \"properties\": {\n",
    "            \"answer\": {\"type\": \"text\"},\n",
    "            \"sub.category\": {\"type\": \"text\"},\n",
    "            \"question\": {\"type\": \"text\"},\n",
    "            \"category\": {\"type\": \"keyword\"} ,\n",
    "            \"answer_embedding\": {\"type\": \"dense_vector\", \"dims\": 384, \"index\": True, \"similarity\": \"cosine\"},\n",
    "        }\n",
    "    }\n",
    "}"
   ]
  },
  {
   "cell_type": "code",
   "execution_count": 81,
   "metadata": {},
   "outputs": [
    {
     "data": {
      "text/plain": [
       "ObjectApiResponse({'acknowledged': True, 'shards_acknowledged': True, 'index': 'vector-embeddings-answer'})"
      ]
     },
     "execution_count": 81,
     "metadata": {},
     "output_type": "execute_result"
    }
   ],
   "source": [
    "index_name = \"vector-embeddings-answer\"\n",
    "\n",
    "search_client.indices.delete(index=index_name, ignore_unavailable=True)\n",
    "search_client.indices.create(index=index_name, body=index_settings)"
   ]
  },
  {
   "cell_type": "code",
   "execution_count": 82,
   "metadata": {},
   "outputs": [
    {
     "name": "stderr",
     "output_type": "stream",
     "text": [
      "100%|██████████| 6398/6398 [01:58<00:00, 53.85it/s]\n"
     ]
    }
   ],
   "source": [
    "for doc in tqdm(operations):\n",
    "    try:\n",
    "        search_client.index(index=index_name, document=doc)\n",
    "    except Exception as e:\n",
    "        print(e)"
   ]
  },
  {
   "cell_type": "code",
   "execution_count": 86,
   "metadata": {},
   "outputs": [],
   "source": [
    "search_term = \"Tell me about Angels, Are they servants or messengers?\"\n",
    "vector_search_term = model.encode(search_term)"
   ]
  },
  {
   "cell_type": "code",
   "execution_count": 90,
   "metadata": {},
   "outputs": [],
   "source": [
    "query = {\n",
    "    \"field\": \"answer_embedding\",\n",
    "    \"query_vector\": vector_search_term,\n",
    "    \"k\": 5,\n",
    "    \"num_candidates\": 10000\n",
    "}"
   ]
  },
  {
   "cell_type": "code",
   "execution_count": 91,
   "metadata": {},
   "outputs": [],
   "source": [
    "results = []\n",
    "\n",
    "response = search_client.search(index=index_name, knn=query, source=[\"category\", \"sub.category\", \"question\", \"answer\"])\n",
    "results.extend(hits['_source'] for hits in response['hits']['hits'])"
   ]
  },
  {
   "cell_type": "code",
   "execution_count": 93,
   "metadata": {},
   "outputs": [
    {
     "name": "stdout",
     "output_type": "stream",
     "text": [
      "Angels act as messengers, bringing the word of God to people (Matthew 1:20; 2:13; Luke 1:11–20; Acts 1:10–11; 8:26).  They are also ministering spirits sent to serve those who will inherit salvation (Hebrews 1:14).\n",
      "\n"
     ]
    }
   ],
   "source": [
    "prompt = build_prompt(search_term, results)\n",
    "answer = llm(prompt)\n",
    "print(answer)"
   ]
  },
  {
   "cell_type": "code",
   "execution_count": null,
   "metadata": {},
   "outputs": [],
   "source": [
    "# HYBRID SEARCH\n"
   ]
  }
 ],
 "metadata": {
  "kernelspec": {
   "display_name": "env",
   "language": "python",
   "name": "python3"
  },
  "language_info": {
   "codemirror_mode": {
    "name": "ipython",
    "version": 3
   },
   "file_extension": ".py",
   "mimetype": "text/x-python",
   "name": "python",
   "nbconvert_exporter": "python",
   "pygments_lexer": "ipython3",
   "version": "3.12.3"
  }
 },
 "nbformat": 4,
 "nbformat_minor": 2
}
