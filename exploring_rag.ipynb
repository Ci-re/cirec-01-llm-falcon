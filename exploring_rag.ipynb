{
 "cells": [
  {
   "cell_type": "code",
   "execution_count": 8,
   "metadata": {},
   "outputs": [],
   "source": [
    "import pandas as pd\n",
    "import numpy as np\n",
    "import os\n",
    "from datasets import load_dataset\n",
    "from dotenv import load_dotenv\n",
    "import google.generativeai as genai\n",
    "from minsearch import Index"
   ]
  },
  {
   "cell_type": "code",
   "execution_count": 5,
   "metadata": {},
   "outputs": [],
   "source": [
    "load_dotenv()\n",
    "genai.configure(api_key=os.environ[\"API_KEY\"])"
   ]
  },
  {
   "cell_type": "code",
   "execution_count": 6,
   "metadata": {},
   "outputs": [
    {
     "name": "stdout",
     "output_type": "stream",
     "text": [
      "{'category': 'Questions about God', 'sub.category': 'The Nature of God', 'question': 'What is God like?', 'answer': 'Answer\\nEvery culture in the history of the world has had some concept of what God is like. Some have assumed that God is in control of the weather and have made images of a storm god throwing lightning bolts around (Baal worship in Canaan). Some have assumed that God is very powerful, and so they worshiped the most powerful thing they could see, the sun (Ra worship in Egypt). Others have assumed that God is everywhere and therefore have worshiped everything (pantheism in Stoic philosophy). Some have assumed that God is unknowable and have turned to agnosticism or, just to cover their bases, have worshiped “An Unknown God” (Acts 17:23).\\nThe problem with each of these assumptions is that they only get part of the picture of who God is. Yes, God is in control of the weather, but He is also in control of so much more. He is powerful, but much more powerful than the sun. He is everywhere, but He also transcends everything. And, thankfully, while there are some things we don’t understand about God, He is knowable. In fact, He has revealed everything we need to know about Him in the Bible. God wants to be known (Psalm 46:10).\\nNorman Geisler and Frank Turek, in their book I Don’t Have Enough Faith to be an Atheist, state the following:\\n- Truth is discovered, not invented. It exists independent of anyone’s knowledge of it. (Gravity existed prior to Newton.)\\n- Truth is transcultural; if something is true, it is true for all people, in all places, at all times. (2+2=4 for everyone, everywhere, at every time.)\\n- Truth is unchanging even though our beliefs about truth change. (When we began to believe the earth was round instead of flat, the truth about the earth didn’t change, only our belief about the earth changed.)\\nTherefore, as we try to ascertain what God is like, we are simply trying to discover truths already there.\\nFirst, God exists. The Bible never argues for God’s existence; it simply states it. The fact that God is should be self-evident through the works He has created (Psalm 19:1-6). Genesis 1:1 says, “In the beginning God created the heavens and the earth.” This is a simple yet powerful statement. The universe includes time, space, matter, and energy, so that all discernible elements in the universe came into being by God’s decree. Albert Einstein’s Theory of General Relativity states that all time, space, and matter had a definite, simultaneous beginning. What has a beginning has a cause. That is the law of causality, and the fact of God easily explains the ultimate cause. God is the creator of all that is, and so we know something else about Him: He is almighty (Joel 1:15), He is eternally self-existent (Psalm 90:2), and He exists above and beyond all of creation (Psalm 97:9).\\nThe same God who made all things also controls those things. He is sovereign (Isaiah 46:10). He who creates an item owns it and has power to utilize it as he sees fit. The ultimate cause has ultimate authority. In Isaiah 44:24 God presents Himself as the One “who has made all things, who alone stretched out the heavens, who spread out the earth by myself.” The next verse says that He “overthrows the learning of the wise and turns it into nonsense.” This is obviously a God with power to do as He pleases.\\nGod is spirit (John 4:24) and cannot be represented by any created thing; in fact, the attempt to create such a representation is blasphemous (Exodus 20:4-6). God is unchanging (Malachi 3:6). God is all-knowing (1 John 3:20) and all-present (Psalm 139:7-13). He is holy and glorious (Isaiah 6:3). He is just (Deuteronomy 32:4) and will justly judge all sin and unrighteousness (Jude 1:15).\\nThe judgment of God highlights another truth about what He is like: He is a moral being. C. S. Lewis, in Mere Christianity, makes the case that, just as there exists observable laws of nature (gravity, entropy, etc.), there are also observable laws of morality. He writes, “First, that human beings, all over the earth, have this curious idea that they ought to behave in a certain way, and cannot really get rid of it. Secondly, that they do not in fact behave in that way. They know the Law of Nature; they break it. These two facts are the foundation of all clear thinking about ourselves and the universe we live in.” Despite varied ideas about what constitutes right and wrong, there is a universal belief that right and wrong exist, and this is a reflection of the God who made us (Genesis 1:26; Ecclesiastes 3:11).\\nWhen Jesus entered our world, He showed us the Father (John 14:7-9). Through Jesus, we understand that God seeks to save the lost (Luke 19:10). He is compassionate (Matthew 14:14), He is merciful (Luke 6:36), and He is forgiving (Matthew 9:1-8). At the same time, Jesus shows us that God will judge unrepentant sin (Luke 13:5) and that God is angry with those who live falsely and refuse to acknowledge the truth (Matthew 23).\\nMost of all, Jesus showed us that God is love (1 John 4:8). It was in love that God sent His Son into the world (John 3:16). It was in love that Jesus died on the cross for sinners (Romans 5:8). It is in love that He still calls sinners to repentance to experience the grace of God and to be called the children of God (1 John 3:1).', 'source': 'https://www.gotquestions.org/what-is-God-like.html'}\n"
     ]
    }
   ],
   "source": [
    "# Prepare dataset\n",
    "# using gotquestions dataset\n",
    "\n",
    "import json\n",
    "\n",
    "with open(\"datasets/questions_answer.json\", 'rt') as f_in:\n",
    "    data = json.load(f_in)\n",
    "\n",
    "print(data[0])"
   ]
  },
  {
   "cell_type": "code",
   "execution_count": null,
   "metadata": {},
   "outputs": [
    {
     "data": {
      "text/plain": [
       "<minsearch.minsearch.Index at 0x749a76d72930>"
      ]
     },
     "execution_count": 9,
     "metadata": {},
     "output_type": "execute_result"
    }
   ],
   "source": [
    "\n",
    "index = Index(\n",
    "    text_fields = [\"question\", \"answer\", \"sub.category\"],\n",
    "    keyword_fields = [\"category\"]\n",
    ")\n",
    "\n",
    "index.fit(data)"
   ]
  },
  {
   "cell_type": "code",
   "execution_count": null,
   "metadata": {},
   "outputs": [],
   "source": [
    "def search(query):\n",
    "# filter_dict = {\"category\": \"Questions about God\"}\n",
    "    boost_dict = {\"question\": 3, \"answer\": 1, \"sub.category\": 1}\n",
    "\n",
    "    return index.search(query, boost_dict, num_results=5)"
   ]
  },
  {
   "cell_type": "code",
   "execution_count": 22,
   "metadata": {},
   "outputs": [],
   "source": [
    "def build_prompt(query, search_results):\n",
    "    prompt_template = \"\"\"\n",
    "    You are a spiritual assistant, your goal is to answer questions about christian spirituality like God, Jesus, Holy Spirit, and Life as a believer of this spirituality.\n",
    "    Answer the QUESTIONS based on the CONTEXT when answering the QUESTION.\n",
    "    If the CONTEXT doesn't match or contain the answer, give NONE as the response.\n",
    "    Answer the questions as if you are a spiritual assistant. Don't provide personal opinions or beliefs.\n",
    "    Don't format your answer quoting the context, just answer the question.\n",
    "    \n",
    "    QUESTION : {question}\n",
    "    \n",
    "    CONTEXT: {context}\n",
    "    \n",
    "    \"\"\".strip()\n",
    "\n",
    "    context = \"\"\n",
    "    for doc in search_results:\n",
    "        context = f'{context}sub.category: {doc[\"sub.category\"]} \\nquestion: {doc[\"question\"]} \\nanswer: {doc[\"answer\"]}\\n\\n'\n",
    "\n",
    "    return prompt_template.format(question= query, context=search_results).strip()"
   ]
  },
  {
   "cell_type": "code",
   "execution_count": 30,
   "metadata": {},
   "outputs": [],
   "source": [
    "def llm(prompt):\n",
    "    model = genai.GenerativeModel(\"gemini-1.5-pro\")\n",
    "    result = model.generate_content(prompt)\n",
    "    return result.text\n",
    "    "
   ]
  },
  {
   "cell_type": "code",
   "execution_count": 32,
   "metadata": {},
   "outputs": [],
   "source": [
    "def rag(query):\n",
    "    results = search(query)\n",
    "    prompt = build_prompt(query, results)\n",
    "    return llm(prompt)"
   ]
  },
  {
   "cell_type": "code",
   "execution_count": 36,
   "metadata": {},
   "outputs": [
    {
     "data": {
      "text/plain": [
       "'The contexts provided discuss Jesus\\' love for children, the timeline of his life, his divinity, and whether he was married.  None of them explicitly states \"Jesus loves me.\" While the contexts affirm Jesus\\' love for all people, including children, they don\\'t contain the specific phrase requested. Therefore, the answer is NONE.\\n'"
      ]
     },
     "execution_count": 36,
     "metadata": {},
     "output_type": "execute_result"
    }
   ],
   "source": [
    "rag(\"Jesus loves me\")"
   ]
  }
 ],
 "metadata": {
  "kernelspec": {
   "display_name": "env",
   "language": "python",
   "name": "python3"
  },
  "language_info": {
   "codemirror_mode": {
    "name": "ipython",
    "version": 3
   },
   "file_extension": ".py",
   "mimetype": "text/x-python",
   "name": "python",
   "nbconvert_exporter": "python",
   "pygments_lexer": "ipython3",
   "version": "3.12.3"
  }
 },
 "nbformat": 4,
 "nbformat_minor": 2
}
