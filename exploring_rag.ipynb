{
 "cells": [
  {
   "cell_type": "code",
   "execution_count": 1,
   "metadata": {},
   "outputs": [
    {
     "name": "stderr",
     "output_type": "stream",
     "text": [
      "/home/cirec/Documents/cirec-01-llm-falcon/env/lib/python3.12/site-packages/tqdm/auto.py:21: TqdmWarning: IProgress not found. Please update jupyter and ipywidgets. See https://ipywidgets.readthedocs.io/en/stable/user_install.html\n",
      "  from .autonotebook import tqdm as notebook_tqdm\n"
     ]
    }
   ],
   "source": [
    "import pandas as pd\n",
    "import numpy as np\n",
    "import os\n",
    "from datasets import load_dataset\n",
    "from dotenv import load_dotenv\n",
    "import google.generativeai as genai\n",
    "from minsearch import Index"
   ]
  },
  {
   "cell_type": "code",
   "execution_count": 2,
   "metadata": {},
   "outputs": [],
   "source": [
    "load_dotenv()\n",
    "genai.configure(api_key=os.environ[\"API_KEY\"])"
   ]
  },
  {
   "cell_type": "code",
   "execution_count": 3,
   "metadata": {},
   "outputs": [
    {
     "name": "stdout",
     "output_type": "stream",
     "text": [
      "{'category': 'Questions about God', 'sub.category': 'The Nature of God', 'question': 'What is God like?', 'answer': 'Answer\\nEvery culture in the history of the world has had some concept of what God is like. Some have assumed that God is in control of the weather and have made images of a storm god throwing lightning bolts around (Baal worship in Canaan). Some have assumed that God is very powerful, and so they worshiped the most powerful thing they could see, the sun (Ra worship in Egypt). Others have assumed that God is everywhere and therefore have worshiped everything (pantheism in Stoic philosophy). Some have assumed that God is unknowable and have turned to agnosticism or, just to cover their bases, have worshiped “An Unknown God” (Acts 17:23).\\nThe problem with each of these assumptions is that they only get part of the picture of who God is. Yes, God is in control of the weather, but He is also in control of so much more. He is powerful, but much more powerful than the sun. He is everywhere, but He also transcends everything. And, thankfully, while there are some things we don’t understand about God, He is knowable. In fact, He has revealed everything we need to know about Him in the Bible. God wants to be known (Psalm 46:10).\\nNorman Geisler and Frank Turek, in their book I Don’t Have Enough Faith to be an Atheist, state the following:\\n- Truth is discovered, not invented. It exists independent of anyone’s knowledge of it. (Gravity existed prior to Newton.)\\n- Truth is transcultural; if something is true, it is true for all people, in all places, at all times. (2+2=4 for everyone, everywhere, at every time.)\\n- Truth is unchanging even though our beliefs about truth change. (When we began to believe the earth was round instead of flat, the truth about the earth didn’t change, only our belief about the earth changed.)\\nTherefore, as we try to ascertain what God is like, we are simply trying to discover truths already there.\\nFirst, God exists. The Bible never argues for God’s existence; it simply states it. The fact that God is should be self-evident through the works He has created (Psalm 19:1-6). Genesis 1:1 says, “In the beginning God created the heavens and the earth.” This is a simple yet powerful statement. The universe includes time, space, matter, and energy, so that all discernible elements in the universe came into being by God’s decree. Albert Einstein’s Theory of General Relativity states that all time, space, and matter had a definite, simultaneous beginning. What has a beginning has a cause. That is the law of causality, and the fact of God easily explains the ultimate cause. God is the creator of all that is, and so we know something else about Him: He is almighty (Joel 1:15), He is eternally self-existent (Psalm 90:2), and He exists above and beyond all of creation (Psalm 97:9).\\nThe same God who made all things also controls those things. He is sovereign (Isaiah 46:10). He who creates an item owns it and has power to utilize it as he sees fit. The ultimate cause has ultimate authority. In Isaiah 44:24 God presents Himself as the One “who has made all things, who alone stretched out the heavens, who spread out the earth by myself.” The next verse says that He “overthrows the learning of the wise and turns it into nonsense.” This is obviously a God with power to do as He pleases.\\nGod is spirit (John 4:24) and cannot be represented by any created thing; in fact, the attempt to create such a representation is blasphemous (Exodus 20:4-6). God is unchanging (Malachi 3:6). God is all-knowing (1 John 3:20) and all-present (Psalm 139:7-13). He is holy and glorious (Isaiah 6:3). He is just (Deuteronomy 32:4) and will justly judge all sin and unrighteousness (Jude 1:15).\\nThe judgment of God highlights another truth about what He is like: He is a moral being. C. S. Lewis, in Mere Christianity, makes the case that, just as there exists observable laws of nature (gravity, entropy, etc.), there are also observable laws of morality. He writes, “First, that human beings, all over the earth, have this curious idea that they ought to behave in a certain way, and cannot really get rid of it. Secondly, that they do not in fact behave in that way. They know the Law of Nature; they break it. These two facts are the foundation of all clear thinking about ourselves and the universe we live in.” Despite varied ideas about what constitutes right and wrong, there is a universal belief that right and wrong exist, and this is a reflection of the God who made us (Genesis 1:26; Ecclesiastes 3:11).\\nWhen Jesus entered our world, He showed us the Father (John 14:7-9). Through Jesus, we understand that God seeks to save the lost (Luke 19:10). He is compassionate (Matthew 14:14), He is merciful (Luke 6:36), and He is forgiving (Matthew 9:1-8). At the same time, Jesus shows us that God will judge unrepentant sin (Luke 13:5) and that God is angry with those who live falsely and refuse to acknowledge the truth (Matthew 23).\\nMost of all, Jesus showed us that God is love (1 John 4:8). It was in love that God sent His Son into the world (John 3:16). It was in love that Jesus died on the cross for sinners (Romans 5:8). It is in love that He still calls sinners to repentance to experience the grace of God and to be called the children of God (1 John 3:1).', 'source': 'https://www.gotquestions.org/what-is-God-like.html'}\n"
     ]
    }
   ],
   "source": [
    "# Prepare dataset\n",
    "# using gotquestions dataset\n",
    "\n",
    "import json\n",
    "\n",
    "with open(\"datasets/questions_answer.json\", 'rt') as f_in:\n",
    "    data = json.load(f_in)\n",
    "\n",
    "print(data[0])"
   ]
  },
  {
   "cell_type": "code",
   "execution_count": 4,
   "metadata": {},
   "outputs": [
    {
     "data": {
      "text/plain": [
       "{'category': 'Questions about God',\n",
       " 'sub.category': 'The Nature of God',\n",
       " 'question': 'What are the attributes of God?',\n",
       " 'answer': 'The Bible, God’s Word, tells us what God is like and what He is not like. Without the authority of the Bible, any attempt to explain God’s attributes (inherent qualities) would be no better than an opinion, which by itself is often incorrect, especially in understanding God (Job 42:7). To say that it is important for us to try to understand what God is like is a huge understatement. Failure to do so can cause us to set up, chase after, and worship false gods contrary to His will (Exodus 20:3-5).\\n\\nOnly what God has chosen to reveal of Himself can be known. One of God’s attributes or qualities is “light,” meaning that He is self-revealing in information of Himself (Isaiah 60:19; James 1:17). The fact that God has revealed knowledge of Himself should not be neglected (Hebrews 4:1). Creation, the Bible, and the Word made flesh (Jesus Christ) will help us to know what God is like.\\nLet’s start by understanding that God is our Creator and that we are a part of His creation (Genesis 1:1; Psalm 24:1) and are created in His image. Man is above the rest of creation and was given dominion over it (Genesis 1:26-28). Creation is marred by the fall but still offers a glimpse of God’s works (Genesis 3:17-18; Romans 1:19-20). By considering creation’s vastness, complexity, beauty, and order, we can have a sense of the awesomeness of God.\\nReading through some of the names of God can be helpful in our search of what God is like. They are as follows:\\nElohim - strong One, divine (Genesis 1:1)\\nAdonai - Lord, indicating a Master-to-servant relationship (Exodus 4:10, 13)\\nEl Elyon - Most High, the strongest One (Genesis 14:20)\\nEl Roi - the strong One who sees (Genesis 16:13)\\nEl Shaddai - Almighty God (Genesis 17:1)\\nEl Olam - Everlasting God (Isaiah 40:28)\\nYahweh - LORD “I AM,” meaning the eternal, self-existent God (Exodus 3:13, 14).\\nGod is eternal, meaning He had no beginning and His existence will never end. He is immortal and infinite (Deuteronomy 33:27; Psalm 90:2; 1 Timothy 1:17). God is immutable, meaning He is unchanging; this in turn means that God is absolutely reliable and trustworthy (Malachi 3:6; Numbers 23:19; Psalm 102:26, 27). God is incomparable; there is no one like Him in works or being. He is unequaled and perfect (2 Samuel 7:22; Psalm 86:8; Isaiah 40:25; Matthew 5:48). God is inscrutable, unfathomable, unsearchable, and past finding out as far as understanding Him completely (Isaiah 40:28; Psalm 145:3; Romans 11:33, 34).\\nGod is just; He is no respecter of persons in the sense of showing favoritism (Deuteronomy 32:4; Psalm 18:30). God is omnipotent; He is all-powerful and can do anything that pleases Him, but His actions will always be in accord with the rest of His character (Revelation 19:6; Jeremiah 32:17, 27). God is omnipresent, meaning He is present everywhere, but this does not mean that God is everything (Psalm 139:7-13; Jeremiah 23:23). God is omniscient, meaning He knows the past, present, and future, including what we are thinking at any given moment. Since He knows everything, His justice will always be administered fairly (Psalm 139:1-5; Proverbs 5:21).\\nGod is one; not only is there no other, but He is alone in being able to meet the deepest needs and longings of our hearts. God alone is worthy of our worship and devotion (Deuteronomy 6:4). God is righteous, meaning that God cannot and will not pass over wrongdoing. It is because of God’s righteousness and justice that, in order for our sins to be forgiven, Jesus had to experience God’s wrath when our sins were placed upon Him (Exodus 9:27; Matthew 27:45-46; Romans 3:21-26).\\nGod is sovereign, meaning He is supreme. All of His creation put together cannot thwart His purposes (Psalm 93:1; 95:3; Jeremiah 23:20). God is spirit, meaning He is invisible (John 1:18; 4:24). God is a Trinity. He is three in one, the same in substance, equal in power and glory. God is truth, He will remain incorruptible and cannot lie (Psalm 117:2; 1 Samuel 15:29).\\nGod is holy, separated from all moral defilement and hostile toward it. God sees all evil and it angers Him. God is referred to as a consuming fire (Isaiah 6:3; Habakkuk 1:13; Exodus 3:2, 4-5; Hebrews 12:29). God is gracious, and His grace includes His goodness, kindness, mercy, and love. If it were not for God’s grace, His holiness would exclude us from His presence. Thankfully, this is not the case, for He desires to know each of us personally (Exodus 34:6; Psalm 31:19; 1 Peter 1:3; John 3:16, 17:3).\\nSince God is an infinite Being, no human can fully answer this God-sized question, but through God’s Word, we can understand much about who God is and what He is like. May we all wholeheartedly continue to seek after Him (Jeremiah 29:13).',\n",
       " 'source': 'https://www.gotquestions.org/attributes-God.html'}"
      ]
     },
     "execution_count": 4,
     "metadata": {},
     "output_type": "execute_result"
    }
   ],
   "source": [
    "# Clean answer key in data\n",
    "for i in range(len(data)):\n",
    "    data[i]['answer'] = data[i]['answer'].replace('Answer\\n', '')\n",
    "\n",
    "data[3]"
   ]
  },
  {
   "cell_type": "code",
   "execution_count": 5,
   "metadata": {},
   "outputs": [
    {
     "data": {
      "text/plain": [
       "<minsearch.minsearch.Index at 0x7bdff5094d40>"
      ]
     },
     "execution_count": 5,
     "metadata": {},
     "output_type": "execute_result"
    }
   ],
   "source": [
    "\n",
    "index = Index(\n",
    "    text_fields = [\"question\", \"answer\", \"sub.category\"],\n",
    "    keyword_fields = [\"category\"]\n",
    ")\n",
    "\n",
    "index.fit(data)"
   ]
  },
  {
   "cell_type": "code",
   "execution_count": 6,
   "metadata": {},
   "outputs": [],
   "source": [
    "def search(query):\n",
    "# filter_dict = {\"category\": \"Questions about God\"}\n",
    "    boost_dict = {\"question\": 3, \"answer\": 1, \"sub.category\": 1}\n",
    "\n",
    "    return index.search(query, boost_dict, num_results=5)"
   ]
  },
  {
   "cell_type": "code",
   "execution_count": 7,
   "metadata": {},
   "outputs": [],
   "source": [
    "def build_prompt(query, search_results):\n",
    "    prompt_template = \"\"\"\n",
    "    You are a spiritual assistant, your goal is to answer questions about christian spirituality like God, Jesus, Holy Spirit, and Life as a believer of this spirituality.\n",
    "    Answer the QUESTIONS based on the CONTEXT when answering the QUESTION.\n",
    "    Answer the questions as if you are a spiritual assistant using the CONTEXT given. Don't provide personal opinions or beliefs.\n",
    "    If the CONTEXT doesn't match or contain the answer, give NONE as the response.\n",
    "    \n",
    "    QUESTION : {question}\n",
    "    \n",
    "    CONTEXT: {context}\n",
    "    \n",
    "    \"\"\".strip()\n",
    "\n",
    "    context = \"\"\n",
    "    for doc in search_results:\n",
    "        context = f'{context}sub.category: {doc[\"sub.category\"]} \\nquestion: {doc[\"question\"]} \\nanswer: {doc[\"answer\"]}\\n\\n'\n",
    "\n",
    "    return prompt_template.format(question= query, context=search_results).strip()"
   ]
  },
  {
   "cell_type": "code",
   "execution_count": 8,
   "metadata": {},
   "outputs": [],
   "source": [
    "def llm(prompt):\n",
    "    model = genai.GenerativeModel(\"gemini-1.5-pro\")\n",
    "    result = model.generate_content(prompt)\n",
    "    return result.text\n",
    "    "
   ]
  },
  {
   "cell_type": "code",
   "execution_count": 9,
   "metadata": {},
   "outputs": [],
   "source": [
    "def rag(query):\n",
    "    results = search(query)\n",
    "    prompt = build_prompt(query, results)\n",
    "    return llm(prompt)"
   ]
  },
  {
   "cell_type": "code",
   "execution_count": 10,
   "metadata": {},
   "outputs": [
    {
     "data": {
      "text/plain": [
       "'To live a fulfilled life as a Christian means understanding that your best life is not to be found in this world, but in the world to come.  While non-Christians focus on maximizing their earthly experience, Christians find their greatest joy and fulfillment in their future with God in heaven. This involves prioritizing eternal treasures over earthly possessions and living a life of faith, obedience, and service to God.  It is not a life free of hardship, but one where trials are seen as opportunities for growth and where faith perseveres to the end.  This is achieved through a close relationship with God, nurtured by prayer and study of His Word, and fellowship with other believers.\\n'"
      ]
     },
     "execution_count": 10,
     "metadata": {},
     "output_type": "execute_result"
    }
   ],
   "source": [
    "rag(\"How do I live a fullfilled life?\")"
   ]
  },
  {
   "cell_type": "code",
   "execution_count": 11,
   "metadata": {},
   "outputs": [
    {
     "data": {
      "text/plain": [
       "ObjectApiResponse({'name': 'a261ab5c6127', 'cluster_name': 'docker-cluster', 'cluster_uuid': '4OAVz4ybTYeTVYzn1UcwhQ', 'version': {'number': '8.4.3', 'build_flavor': 'default', 'build_type': 'docker', 'build_hash': '42f05b9372a9a4a470db3b52817899b99a76ee73', 'build_date': '2022-10-04T07:17:24.662462378Z', 'build_snapshot': False, 'lucene_version': '9.3.0', 'minimum_wire_compatibility_version': '7.17.0', 'minimum_index_compatibility_version': '7.0.0'}, 'tagline': 'You Know, for Search'})"
      ]
     },
     "execution_count": 11,
     "metadata": {},
     "output_type": "execute_result"
    }
   ],
   "source": [
    "## Implementing Vector Search using elastic search\n",
    "\n",
    "from elasticsearch import Elasticsearch\n",
    "\n",
    "search_client = Elasticsearch(\"http://localhost:9200/\")\n",
    "search_client.info()"
   ]
  },
  {
   "cell_type": "code",
   "execution_count": 12,
   "metadata": {},
   "outputs": [
    {
     "data": {
      "text/plain": [
       "ObjectApiResponse({'acknowledged': True, 'shards_acknowledged': True, 'index': 'got_questions'})"
      ]
     },
     "execution_count": 12,
     "metadata": {},
     "output_type": "execute_result"
    }
   ],
   "source": [
    "index_settings = {\n",
    "    \"settings\": {\n",
    "        \"number_of_shards\": 1,\n",
    "        \"number_of_replicas\": 0\n",
    "    },\n",
    "    \"mappings\": {\n",
    "        \"properties\": {\n",
    "            \"answer\": {\"type\": \"text\"},\n",
    "            \"sub.category\": {\"type\": \"text\"},\n",
    "            \"question\": {\"type\": \"text\"},\n",
    "            \"category\": {\"type\": \"keyword\"} \n",
    "        }\n",
    "    }\n",
    "}\n",
    "\n",
    "# delete an index\n",
    "\n",
    "\n",
    "index_name = \"got_questions\"\n",
    "# search_client.indices.delete(index=index_name)\n",
    "search_client.indices.create(index=index_name, body=index_settings)\n"
   ]
  },
  {
   "cell_type": "code",
   "execution_count": 13,
   "metadata": {},
   "outputs": [
    {
     "name": "stderr",
     "output_type": "stream",
     "text": [
      "100%|██████████| 6398/6398 [01:30<00:00, 70.64it/s] \n"
     ]
    }
   ],
   "source": [
    "from tqdm import tqdm\n",
    "\n",
    "for doc in tqdm(data):\n",
    "    search_client.index(index=index_name, document=doc)\n"
   ]
  },
  {
   "cell_type": "code",
   "execution_count": 14,
   "metadata": {},
   "outputs": [],
   "source": [
    "def elastic_search(query):\n",
    "    result_docs = []\n",
    "    search_query = {\n",
    "        \"size\": 5,\n",
    "        \"query\": {\n",
    "            \"bool\": {\n",
    "                \"must\": {\n",
    "                    \"multi_match\": {\n",
    "                        \"query\": query,\n",
    "                        \"fields\": [\"question^3\", \"answer\", \"sub.category\"],\n",
    "                        \"type\": \"best_fields\"\n",
    "                    }\n",
    "                }\n",
    "            }\n",
    "        }\n",
    "    }\n",
    "    response = search_client.search(index=index_name, body=search_query)\n",
    "    result_docs.extend(hits['_source'] for hits in response['hits']['hits'])\n",
    "    return result_docs"
   ]
  },
  {
   "cell_type": "code",
   "execution_count": 16,
   "metadata": {},
   "outputs": [],
   "source": [
    "# elastic_search(\"The love of God is always merciful, what does tPrincipalities and powerhis mean?\")"
   ]
  },
  {
   "cell_type": "code",
   "execution_count": 21,
   "metadata": {},
   "outputs": [
    {
     "name": "stdout",
     "output_type": "stream",
     "text": [
      "The devil is a deceiver who “prowls around like a roaring lion seeking whom he may devour” (1 Peter 5:8).  He tempts humans to sin against God, appealing to the lust of the flesh, the lust of the eyes, and the pride of life (1 John 2:16).  He also fills people’s hearts with lies (Acts 5:3). He uses various tactics such as exploiting weaknesses, manipulating with false guilt, twisting Scripture, and deceiving.\n",
      "\n"
     ]
    }
   ],
   "source": [
    "query = \"Who is the devil and how does he ruin us as believers?\"\n",
    "search_query = elastic_search(query)\n",
    "prompt = build_prompt(query, search_query)\n",
    "answer = llm(prompt)\n",
    "print(answer)"
   ]
  },
  {
   "cell_type": "code",
   "execution_count": null,
   "metadata": {},
   "outputs": [],
   "source": [
    "# Vector search and Embeddings\n",
    "\n",
    "from sentence_transformers import SentenceTransformer\n",
    "\n",
    "model = SentenceTransformer(\"all-MiniLM-L6-v2\")\n",
    "model.encode(\"This is a simple sentence\")"
   ]
  },
  {
   "cell_type": "code",
   "execution_count": 28,
   "metadata": {},
   "outputs": [],
   "source": [
    "operations = []\n",
    "for doc in tqdm(data):\n",
    "    doc[\"answer_embedding\"] = model.encode(doc[\"answer\"]).tolist()\n",
    "    operations.append(doc)"
   ]
  },
  {
   "cell_type": "code",
   "execution_count": 31,
   "metadata": {},
   "outputs": [
    {
     "data": {
      "text/plain": [
       "384"
      ]
     },
     "execution_count": 31,
     "metadata": {},
     "output_type": "execute_result"
    }
   ],
   "source": [
    "len(model.encode(\"This is a simple sentence\"))"
   ]
  },
  {
   "cell_type": "code",
   "execution_count": 80,
   "metadata": {},
   "outputs": [],
   "source": [
    "index_settings = {\n",
    "    \"settings\": {\n",
    "        \"number_of_shards\": 1,\n",
    "        \"number_of_replicas\": 0\n",
    "    },\n",
    "    \"mappings\": {\n",
    "        \"properties\": {\n",
    "            \"answer\": {\"type\": \"text\"},\n",
    "            \"sub.category\": {\"type\": \"text\"},\n",
    "            \"question\": {\"type\": \"text\"},\n",
    "            \"category\": {\"type\": \"keyword\"} ,\n",
    "            \"answer_embedding\": {\"type\": \"dense_vector\", \"dims\": 384, \"index\": True, \"similarity\": \"cosine\"},\n",
    "        }\n",
    "    }\n",
    "}"
   ]
  },
  {
   "cell_type": "code",
   "execution_count": 81,
   "metadata": {},
   "outputs": [
    {
     "data": {
      "text/plain": [
       "ObjectApiResponse({'acknowledged': True, 'shards_acknowledged': True, 'index': 'vector-embeddings-answer'})"
      ]
     },
     "execution_count": 81,
     "metadata": {},
     "output_type": "execute_result"
    }
   ],
   "source": [
    "index_name = \"vector-embeddings-answer\"\n",
    "\n",
    "search_client.indices.delete(index=index_name, ignore_unavailable=True)\n",
    "search_client.indices.create(index=index_name, body=index_settings)"
   ]
  },
  {
   "cell_type": "code",
   "execution_count": 82,
   "metadata": {},
   "outputs": [
    {
     "name": "stderr",
     "output_type": "stream",
     "text": [
      "100%|██████████| 6398/6398 [01:58<00:00, 53.85it/s]\n"
     ]
    }
   ],
   "source": [
    "for doc in tqdm(operations):\n",
    "    try:\n",
    "        search_client.index(index=index_name, document=doc)\n",
    "    except Exception as e:\n",
    "        print(e)"
   ]
  },
  {
   "cell_type": "code",
   "execution_count": 83,
   "metadata": {},
   "outputs": [],
   "source": [
    "search_term = \"Who is God?\"\n",
    "vector_search_term = model.encode(search_term)"
   ]
  },
  {
   "cell_type": "code",
   "execution_count": 84,
   "metadata": {},
   "outputs": [],
   "source": [
    "query = {\n",
    "    \"field\": \"answer_embedding\",\n",
    "    \"query_vector\": vector_search_term,\n",
    "    \"k\": 10,\n",
    "    \"num_candidates\": 10000\n",
    "}"
   ]
  },
  {
   "cell_type": "code",
   "execution_count": 85,
   "metadata": {},
   "outputs": [
    {
     "data": {
      "text/plain": [
       "[{'_index': 'vector-embeddings-answer',\n",
       "  '_id': 'ohshhJQBphcFVFwuEIa5',\n",
       "  '_score': 0.82821923,\n",
       "  '_source': {'sub.category': 'The Nature of God',\n",
       "   'question': 'Who is God?',\n",
       "   'answer': 'Who is God? What is God? How can we know God?\\n\\nWho is God? - The Fact\\nThe fact of God’s existence is so conspicuous, both through creation and through man’s conscience, that the Bible calls the atheist a “fool” (Psalm 14:1). Accordingly, the Bible never attempts to prove the existence of God; rather, it assumes His existence from the very beginning (Genesis 1:1). What the Bible does is reveal the nature, character, and work of God.\\nWho is God? - The Definition\\nThinking correctly about God is of utmost importance because a false idea about God is idolatry. In Psalm 50:21, God reproves the wicked man with this accusation: “You thought I was altogether like you.” To start with, a good summary definition of God is “the Supreme Being; the Creator and Ruler of all that is; the Self-existent One who is perfect in power, goodness, and wisdom.”\\nWho is God? - His Nature\\nWe know certain things to be true of God for one reason: in His mercy He has condescended to reveal some of His qualities to us. God is spirit, by nature intangible (John 4:24). God is One, but He exists as three Persons—God the Father, God the Son, and God the Holy Spirit (Matthew 3:16-17). God is infinite (1 Timothy 1:17), incomparable (2 Samuel 7:22), and unchanging (Malachi 3:6). God exists everywhere (Psalm 139:7-12), knows everything (Psalm 147:5; Isaiah 40:28), and has all power and authority (Ephesians 1; Revelation 19:6).\\nWho is God? - His Character\\nHere are some of God’s characteristics as revealed in the Bible: God is just (Acts 17:31), loving (Ephesians 2:4-5), truthful (John 14:6), and holy (1 John 1:5). God shows compassion (2 Corinthians 1:3), mercy (Romans 9:15), and grace (Romans 5:17). God judges sin (Psalm 5:5) but also offers forgiveness (Psalm 130:4).\\nWho is God? - His Work\\nWe cannot understand God apart from His works, because what God does flows from who He is. Here is an abbreviated list of God’s works, past, present, and future: God created the world (Genesis 1:1; Isaiah 42:5); He actively sustains the world (Colossians 1:17); He is executing His eternal plan (Ephesians 1:11) which involves the redemption of man from the curse of sin and death (Galatians 3:13-14); He draws people to Christ (John 6:44); He disciplines His children (Hebrews 12:6); and He will judge the world (Revelation 20:11-15).\\nWho is God? - A Relationship with Him\\nIn the Person of the Son, God became incarnate (John 1:14). The Son of God became the Son of Man and is therefore the “bridge” between God and man (John 14:6; 1 Timothy 2:5). It is only through the Son that we can have forgiveness of sins (Ephesians 1:7), reconciliation with God (John 15:15; Romans 5:10), and eternal salvation (2 Timothy 2:10). In Jesus Christ “all the fullness of the Deity lives in bodily form” (Colossians 2:9). So, to really know who God is, all we have to do is look at Jesus.',\n",
       "   'category': 'Questions about God'}},\n",
       " {'_index': 'vector-embeddings-answer',\n",
       "  '_id': 'phshhJQBphcFVFwuEYYD',\n",
       "  '_score': 0.8154204,\n",
       "  '_source': {'sub.category': 'The Nature of God',\n",
       "   'question': 'Is God a person?',\n",
       "   'answer': 'Yes, God is a person. But, when we say that God is a “person,” we do not mean that He is a human being. We mean that God possesses “personality” and that He is a rational Being with self-awareness. Theologians often define person as “an individual being with a mind, emotions, and a will.” God definitely has an intellect (Psalm 139:17), emotions (Psalm 78:41), and volition (1 Corinthians 1:1). So, yes, God is a person.\\nNo one doubts the personhood of man, and man is made in God’s image (Genesis 1:26–27). All through the Bible, the personal pronouns He, Him, and His are used of God.\\nThe Bible teaches that God exists in three Persons: Father, Son, and Holy Spirit. The tri-unity of God is a difficult concept to consider, but the proof is in the Bible. In Isaiah 48:16 and 61:1, the Son is speaking while making reference to the Father and the Holy Spirit (cp. Luke 4:14–19). Matthew 3:16–17 describes Jesus’ baptism. God the Holy Spirit descends on God the Son while the Father proclaims His pleasure in the Son. Matthew 28:19 and 2 Corinthians 13:14 also speak of three distinct Persons in the Trinity.\\nGod the Father is a Person with a mind (Isaiah 55:8–9), emotions (Psalm 78:40), and a will (1 Peter 2:15). God the Son is a Person with a mind (Luke 2:52), emotions (John 11:35), and a will (Luke 22:15). God the Holy Spirit is a Person with a mind (Romans 8:27), emotions (Ephesians 4:30), and a will (Galatians 5:17). All three Persons of the Trinity possess all the attributes of God (John 6:37-40; 8:17-25; Colossians 1:13-20; Psalm 90:2; 139:7–10; Job 42:2; 26:13; 1 Corinthians 2:9–11; Hebrews 9:14). \\nGod shows His personal nature in that He expresses anger (Psalm 7:11), laughs (Psalm 2:4), has compassion (Psalm 135:14), loves (1 John 4:8), hates (Psalm 11:5), teaches (John 14:25), reproves (John 16:8), and leads (Romans 8:14). All of these actions imply the fact that God is a person.',\n",
       "   'category': 'Questions about God'}},\n",
       " {'_index': 'vector-embeddings-answer',\n",
       "  '_id': 'IxshhJQBphcFVFwuGocG',\n",
       "  '_score': 0.79008454,\n",
       "  '_source': {'sub.category': 'The Identity of God',\n",
       "   'question': 'What does it mean that God is Almighty?',\n",
       "   'answer': 'In Hebrew, the title \"God Almighty\" is written as El Shaddai and probably means “God, the All-powerful One” or “The Mighty One of Jacob” (Genesis 49:24; Psalm 132:2,5), although there is a question among most Bible scholars as to its precise meaning. The title speaks to God’s ultimate power over all. He has all might and power. We are first introduced to this name in Genesis 17:1, when God appeared to Abram and said, “I am God Almighty; walk before me and be blameless.” \\nGod has many names and attributes. He is the Almighty (Genesis 49:25), the Creator of heaven and earth (Genesis 14:19), Builder of everything (Hebrews 3:4), the King of heaven (Daniel 4:37), God of all mankind (Jeremiah 32:27), and the Eternal King. (Jeremiah 10:10). He is the only God (Jude 1:25), the Eternal God (Genesis 21:33), the Everlasting God (Isaiah 40:28), and Maker of all things (Ecclesiastes 11:5). He is able to do more things than we can ask or even imagine (Ephesians 3:20). He performs wonders that cannot be fathomed and miracles that cannot be counted (Job 9:10). God’s power is unlimited. He can do anything He wants, whenever He wants (Psalm 115:3). He spoke the universe into existence (Genesis 1:3). Furthermore, He answers to no one as to His plans and purposes: “All the peoples of the earth are regarded as nothing. He does as he pleases with the powers of heaven and the peoples of the earth. No one can hold back his hand or say to him: ‘What have you done?’\" (Daniel 4:35).\\nWhen we see God as the Almighty, we are struck by His power and by the fact that He is indeed a great, mighty, and awesome God (Deuteronomy 10:17). The identity of God as Almighty serves to establish the sense of awe and wonder we have toward Him and the realization that He is God above all things without limitation. This is important in view of how He is described next in the Bible. In Exodus 6:2-3, God said to Moses, “I am the LORD. I appeared to Abraham, to Isaac and Jacob as God Almighty, but by my name the LORD I did not make myself known to them.” How is this significant? It is significant because God, whom we previously knew only as God Almighty, has now given a new, more personal and intimate name to Moses (and Israel). This desire on God’s part for a more personal relationship with mankind would culminate later when God Almighty sent His only Son to earth--God in flesh--to die on the cross so that a way for forgiveness of our sins could be provided. The fact that God Almighty would humble Himself in this way for us makes His name all the more remarkable.',\n",
       "   'category': 'Questions about God'}},\n",
       " {'_index': 'vector-embeddings-answer',\n",
       "  '_id': 'uRshhJQBphcFVFwuEoZq',\n",
       "  '_score': 0.78069603,\n",
       "  '_source': {'sub.category': 'The Nature of God',\n",
       "   'question': 'Who is the one true God?',\n",
       "   'answer': 'This is a profoundly important question. Because we live in a world with many competing truth claims—and many so-called gods—the identity of the one true God matters. The one true God is distinguished from all the false gods that have been foisted upon mankind by evil spirits and deluded men. Gods that are fashioned by the imaginations and hands of men are absolutely worthless (Isaiah 44:9–10), but the one true God is full of glory, grace, and truth (John 1:14).\\n\\nThe Bible says that the one true God is the sovereign, self-existent Creator of the universe (Isaiah 42:5; Ephesians 1:11). He is spirit (John 4:24), He is eternal (Psalm 90:2), and He is personal (Deuteronomy 34:10). The one true God possesses all knowledge (Isaiah 46:10) and all power (Matthew 19:26), is present in all places (Psalm 139:7–10), and is unchanging (James 1:17). There are many false gods—Hinduism alone supposedly recognizes as many as 330 million gods—but none of them possess the attributes of the one true God.\\nThe Bible says that God is just (Acts 17:31), loving (Ephesians 2:4–5), truthful (Numbers 23:19), and holy (Isaiah 6:3). God shows compassion (2 Corinthians 1:3), mercy (Romans 9:15), and grace (Romans 5:17). God judges sin (Psalm 5:5), but He also offers forgiveness (Psalm 130:4). Any god that is not just, loving, truthful, holy, compassionate, merciful, gracious, and forgiving is not the one true God.\\nThe one true God exists in tri-unity. The Bible speaks of three divine Persons who share the same nature and essence in one God. Father, Son, and Holy Spirit are three in one (Matthew 3:16–17; 28:19). This characteristic of the one true God separates Him from all other gods of monotheistic religions: Islam, for example, teaches one god (Allah), but it is a false god, since Allah is not triune. Any concept of God that excludes Jesus Christ is faulty. As Scripture says, “No one who denies the Son has the Father; whoever acknowledges the Son has the Father also” (1 John 2:23).\\nThe one true God wants to be known. He has revealed His power and glory in creation (Romans 1:20). He revealed Himself to Abram in Mesopotamia, calling him to a new life of faith and making of him a new nation (Genesis 12:1–3). The one true God later identified Himself as the “the God of Abraham, the God of Isaac and the God of Jacob” (Exodus 3:6) and revealed Himself to Moses in Midian (verses 1–5). Using Moses, the one true God began to reveal Himself more clearly through His written Word, the Bible. And, finally, the one true God has given us the ultimate revelation of Himself in the Lord Jesus: “In the past God spoke to our ancestors through the prophets at many times and in various ways, but in these last days he has spoken to us by his Son” (Hebrews 1:1–2). Jesus is “the exact representation of [God’s] being” (verse 3). Jesus is the Word of God made flesh who “made his dwelling among us” (John 1:14).\\nWe all have a choice of whom to worship. Joshua told the Israelites it was time for them to choose the one true God over the gods of the Amorites (Joshua 24:15). Elijah told the people on top of Mt. Carmel that they could no longer stay ambivalent concerning God: “How long will you waver between two opinions? If the LORD is God, follow him; but if Baal is God, follow him” (1 Kings 18:21). Today, people worship some of the same pagan gods mentioned in the Old Testament; or they worship more recent false gods such as Mami Wata and Cernunnos; or they worship themselves. But the worship of false deities leads only to death in the end. “This is eternal life: that they know you, the only true God, and Jesus Christ, whom you have sent” (John 17:3). May we be like Ruth, who chose the one true God over the idols of Moab (Ruth 1:16).',\n",
       "   'category': 'Questions about God'}},\n",
       " {'_index': 'vector-embeddings-answer',\n",
       "  '_id': 'tRshhJQBphcFVFwuEoYg',\n",
       "  '_score': 0.7803136,\n",
       "  '_source': {'sub.category': 'The Nature of God',\n",
       "   'question': 'Who is God the Father?',\n",
       "   'answer': 'God the Father. God the Son. God the Holy Spirit. One God existing in three eternal Persons. The full truth of the Trinity is beyond our reach intellectually, but we accept it by faith because it is taught in the Bible.\\nAccording to the Bible, there is one God (Deuteronomy 6:4; 1 Corinthians 8:6). And this God eternally exists in three Persons: Father, Son, and Holy Spirit (Matthew 28:19; Luke 3:21–22; 2 Corinthians 13:14). Each Person of the Trinity is coequal and coeternal—no One is inferior to another (John 1:1–2). They are of the same essence and share the same nature. As the Athanasian Creed words it, “In this Trinity, no one is before or after, greater or less than the other; but all three persons are in themselves, coeternal and coequal; and so we must worship the Trinity in unity and the one God in three persons.“\\nWith that foundation, we can look at who God the Father is.\\nGod the Father is the first Person of the Trinity and serves as its functional head. He is an infinite, personal Spirit (John 4:24) and has been identified as “Father” from eternity past, both to His Son (John 3:16–17) and to His chosen people (Exodus 4:22–23; 1 Corinthians 1:3). God the Father is neither male nor female, but He is referred to in Scripture with masculine pronouns. This portrays His parental closeness to His people as well as His authoritative role as God. Some passages in Scripture describe God the Father using feminine imagery, displaying His tender care and concern for His people (Isaiah 66:13; Matthew 23:37).\\nEven though God the Father is not superior in essence or being to the Son or the Spirit, He does serve as the functional head of the Trinity. God the Father is the one who directs the will of both God the Son and God the Spirit, both of whom voluntarily submit to Him on a functional level to accomplish the will of God (John 14:24–26, 20:21). God the Son is eternally begotten by God the Father and is sent from Him alone (John 17) while God the Spirit proceeds from God the Father through the Son (John 15:26).\\nAs the functional head of the Trinity, God the Father can be understood as the author of all acts of God. God the Father is the one who created the heavens and the earth (Genesis 1-2), and He did this through God the Son by the power of God the Spirit (Genesis 1:1–2; Colossians 1:16). He is the source for all other divine acts including election, calling, salvation, sanctification, glorification, and more. Romans 11:36 says, “For from Him and through Him and to Him are all things. To Him be the glory forever. Amen” (ESV).\\nThrough His life and ministry, Jesus regularly taught His followers who God the Father is and what He’s like. The Gospel narratives, then, give us the clearest picture of who God the Father is. We are told that God is a Father who deeply loves His children (John 16:27); that He is to be prayed to (Matthew 6:6); that He is the source of salvation for all who come through Jesus (John 14:6); and that He has a will to be sought after (John 6:38).',\n",
       "   'category': 'Questions about God'}},\n",
       " {'_index': 'vector-embeddings-answer',\n",
       "  '_id': 'qhshhJQBphcFVFwuEYZS',\n",
       "  '_score': 0.7801882,\n",
       "  '_source': {'sub.category': 'The Nature of God',\n",
       "   'question': 'What is Theology Proper / Paterology?',\n",
       "   'answer': 'AnswerTheology proper is the study of God and His attributes. Theology proper focuses on God the Father. Paterology comes from two Greek words which mean \"father\" and \"word\" - which combine to mean \"the study of the Father.\" Theology proper answers several important questions about God:\\nDoes God exist? God exists and ultimately everyone knows that He exists. The very fact that some attempt so aggressively to disprove His existence is in fact an argument for His existence.\\nWhat are the attributes of God? In the words of the hymn writer, “immortal, invisible, God only wise…most blessed, most glorious, the Ancient of Days, Almighty, Victorious, thy great name we praise.” Knowing God’s attributes leads to glorifying and praising Him.\\nWhat does the Bible teach about the Trinity? Though we can understand some facts about the relationship of the different persons of the Trinity to one another, ultimately, it is incomprehensible to the human mind. However, this does not mean it is not true or not based on the teachings of the Bible.\\nIs God sovereign, or do we have a free will? When we talk about free will, we are usually concerned with the matter of salvation. Few are interested in whether we have the free will to choose salad or steak for our dinner tonight. Rather, we are troubled over who exactly is in control of our eternal destiny.\\nTheology proper discusses God’s omnipresence, omniscience, omnipotence, and eternality. It teaches us about who God is and what He does. Paterology focuses on how God the Father is distinct from God the Son and God the Holy Spirit. Only by knowing who God is and what He does can we properly relate to Him. Many people have unbiblical perceptions about God that affect how they understand Him. Some people see God as a brutal tyrant, with no love or grace. Other people see God as a loving friend, with no justice or anger. Both perceptions are equally incorrect. God is full of mercy, love, and grace - and at the same time righteous, holy, and just. God grants mercy and sends judgment. God punishes sin and forgives sin. God will grant believers entrance into heaven and send unbelievers to Hell. Theology proper gives us a more complete understanding of who God is and what He does.\\nRomans 11:33 is perhaps a good summary verse for theology proper / Paterology: \"Oh, the depth of the riches of the wisdom and knowledge of God! How unsearchable his judgments, and his paths beyond tracing out!\"',\n",
       "   'category': 'Questions about God'}},\n",
       " {'_index': 'vector-embeddings-answer',\n",
       "  '_id': '0RshhJQBphcFVFwuFIZI',\n",
       "  '_score': 0.77952766,\n",
       "  '_source': {'sub.category': 'The Character of God',\n",
       "   'question': 'What is the character of God?',\n",
       "   'answer': 'The pages of the Bible reveal a detailed portrait of the character of God. Perhaps the most outstanding feature of God’s character is that He is a loving Father to all believers (Ephesians 1:2; Galatians 1:1; Colossians 1:12; 1 Thessalonians 1:3).\\nGod, by His nature, is wholly good (Mark 10:18; 1 Timothy 4:4). His goodness is unmatched, and because of it, we can trust in Him: “The LORD is good, a refuge in times of trouble. He cares for those who trust in him” (Nahum 1:7; see also Exodus 33:19; Psalm 25:8; 34:8; Matthew 19:17; 2 Peter 1:3). In His goodness, God always has our best interests at heart: “We know that all things work together for the good of those who love God, who are called according to his purpose” (Romans 8:28, CSB; see also Genesis 50:20; Jeremiah 29:11; Lamentations 3:25). Everything God does is an expression of His goodness and designed to benefit His people.\\nGod’s holiness is unequaled: “There is no one holy like the LORD; there is no one besides you; there is no Rock like our God” (1 Samuel 2:2; see also Leviticus 11:44–45; 19:2; Isaiah 6:3; 43:15; 1 Peter 1:15–16; Revelation 4:8). There is no stain of evil or impurity in God: “God is light; in him there is no darkness at all” (1 John 1:5; see also Psalm 12:6; 19:8).\\nAnother defining characteristic of God is His righteousness, meaning He exists in a state of moral perfection: “God presented Christ as a sacrifice of atonement, through the shedding of his blood—to be received by faith. He did this to demonstrate his righteousness, because in his forbearance he had left the sins committed beforehand unpunished—he did it to demonstrate his righteousness at the present time, so as to be just and the one who justifies those who have faith in Jesus” (Romans 3:25–26; see also 2 Chronicles 12:6; Psalm 33:5; Isaiah 45:21).\\nGod is also just; He is perfectly upright and fair in how he treats His creation: “Yet the LORD longs to be gracious to you; therefore he will rise up to show you compassion. For the LORD is a God of justice. Blessed are all who wait for him!” (Isaiah 30:18; see also Deuteronomy 32:4; Zephaniah 3:5; Acts 17:31; Revelation 16:5–6).\\nLoving, compassionate, gracious, kind, and merciful are all central descriptions of the character of God (Nehemiah 9:31). So kindhearted and caring is He that Scripture says, “God is love” (1 John 4:8, 16). The psalmist describes God as “compassionate and gracious” and “abounding in love and faithfulness” (Psalm 86:15). So great is God’s love for us “that he gave his one and only Son, that whoever believes in him shall not perish but have eternal life” (John 3:16; see also 1 John 4:9–10). Because of His great love, Christ died for us, even while we were still sinners (Romans 5:8; see also Titus 3:4–5). God’s mercy and compassion never fail; they are renewed continuously toward us day in and day out (Lamentations 3:22–23).\\nPart of God’s character is faithfulness: “God is faithful, who has called you into fellowship with his Son, Jesus Christ our Lord” (1 Corinthians 1:9; see also Isaiah 49:7 1 Thessalonians 5:24). In our struggles and failures, God is faithful to forgive us when we confess our sin and return to Him: “If we confess our sins, he is faithful and just and will forgive us our sins and purify us from all unrighteousness” (1 John 1:9). In times when we stumble and fall, it is immensely encouraging to know that God will never abandon us. Even when we are utterly unfaithful, God remains faithful and true because that is who He is; it is God’s character to be faithful (2 Timothy 2:13; see also Revelation 19:11).\\nGod is truthful, and His Word is true: “We know also that the Son of God has come and has given us understanding, so that we may know him who is true. And we are in him who is true by being in his Son Jesus Christ. He is the true God and eternal life” (1 John 5:20; see also John 17:17). God and His Word form a trustworthy foundation for life (Psalm 12:6; 26:3; 33:4; 43:3; 86:11). In Him is no falsehood, lies, or deception (Numbers 23:19; Isaiah 45:19; Romans 1:25; Hebrews 6:18). What God says is absolutely reliable (Jeremiah 10:10). His Word is consistent with His character and His revelation of Himself (John 7:28; 8:26). Because of God’s character, we can count on Him to fulfill His promises (Psalm 31:5).\\nPatience and longsuffering are attributes of God’s character. He is “slow to anger,” dealing patiently with rebellious sinners (Exodus 34:6; Numbers 14:18; Psalm 86:15;). God was patient in delaying the flood in Noah’s time while the ark was under construction, giving sinners plenty of time for repentance (1 Peter 3:20). Likewise, the prolonging of Christ’s return is not an indication of slowness or hesitation on God’s part, but of His longsuffering, as He does not want anyone to die without the opportunity to repent, be saved, and enter into His family (2 Peter 3:9–10). At the heart of God’s character is His desire to be a Father to all who draw near to Him (Psalm 68:5; 103:13; Isaiah 63:16; 64:8; Ephesians 4:6; 1 John 3:1).\\nThe more deeply we dig into the Scriptures, the more we will uncover new and beautiful facets to the character of God. And the longer we spend time with Him and in His Word, the better we will know and understand His nature. We will discover that God never changes (Malachi 3:6; James 1:17), that He is all-knowing, all-powerful, and always present everywhere (Psalm 139:7–10; Hebrews 4:13). He is perfect (Matthew 5:48), and He is three in one. We can spend a lifetime seeking after Him and still only scratch the surface of comprehending the depth of our heavenly Father’s character.',\n",
       "   'category': 'Questions about God'}},\n",
       " {'_index': 'vector-embeddings-answer',\n",
       "  '_id': 'gxshhJQBphcFVFwuIIfw',\n",
       "  '_score': 0.77383393,\n",
       "  '_source': {'sub.category': 'God and Evil',\n",
       "   'question': 'Can God sin? If God cannot sin, is He truly omnipotent?',\n",
       "   'answer': 'To answer this question, we must first consider who God is. The human mind, however, cannot adequately grasp who He is if it were not for the special revelations He has given us. One avenue of revelation is through God’s creation (Psalm 19:1-6). Creation’s complexity, design, and order lead us to acknowledge there is an awesome Being who brought it into existence and maintains it.\\nAnother avenue is through God’s written Word. From Scripture portions, we may ascertain the attributes, or qualities, that are inherent in God, thus giving us a glimpse of His character. One theologian states that His attributes are “His perfections.” Some of them are: His eternality (Psalm 90:2); His immutability, or unchanging quality (James 1:17); His love (1 John 4:8); His omnipotence, or being all powerful, the Almighty One (Revelation 1:8); His omnipresence, or being everywhere present at all times (Psalm 139:7-11); His holiness, absolute purity and separation from evil (Habakkuk 1:13); His righteousness, or justice (Psalm 11:7); and His truth (Titus 1:2).\\nThis is a brief picture of God who manifested Himself in three persons, Father, Son and Holy Spirit, and the attributes, or perfections, are true for each member of the Godhead. Because God is holy, righteous and true, and He can do nothing inconsistent with Himself, we come to the conclusion that God cannot sin. Since holiness, righteousness, and God’s other perfections are who God is, if God were to sin, He would cease to be God. The fact that God is \"holy, holy, holy\" prevents Him from doing anything that is unholy, i.e. sinful.\\nWe cannot close, however, without realizing the amazing fact that our holy God involved Himself in mankind’s sin. He sent His one and only Son to this earth to die to pay sin’s penalty. “For Christ died for sins once for all, the righteous for the unrighteous, to bring you to God” (1 Peter 3:18). “He Himself bore our sins in His body on the tree, so that we might die to sins and live for righteousness; by His wounds you have been healed” (1 Peter 2:24). “All have sinned and fall short of the glory of God, and are justified freely by His grace through the redemption that came by Christ Jesus. God presented Him as a sacrifice of atonement, through faith in His blood” (Romans 3:23-25).',\n",
       "   'category': 'Questions about God'}},\n",
       " {'_index': 'vector-embeddings-answer',\n",
       "  '_id': 'CRshhJQBphcFVFwuGIcw',\n",
       "  '_score': 0.77012914,\n",
       "  '_source': {'sub.category': 'The Identity of God',\n",
       "   'question': 'Is there a God?',\n",
       "   'answer': 'Is there a God? This is among the most fundamental questions asked by mankind. For the majority of human history, the overwhelming answer to this question has been, “yes,” though there have been strong disagreements about what kind of god, God, or gods exist. Certainly, here at GotQuestions.org, we would argue that God exists and that there is plenty of evidence for the fact.\\nThe Bible says there is a God, that nature demonstrates a Creator (Psalm 19:1), and that God reveals enough of Himself in the world for people to know of Him (Romans 1:20). The early Christian church was founded on the use of eyewitnesses, evidence, and good reasoning (Luke 1:1–2; 2 Peter 1:16; Acts 17:11; 1 Corinthians 14:20). Even Jesus Himself appealed to evidence when defending His claims (John 5:31–47).\\nBeyond the Bible, we also have the support of archaeology, science, history, literature, and human experience that there is a God. Naturally, some point to evidence from those fields to attack the idea of God’s existence. And yet the balance of human experience, science, and philosophy seems to indicate that there is a God. Much of what we assume as part of daily life, including reason, morality, and human rights, are nonsensical unless God exists.\\nThere are ample reasons to believe in God; the real question is whether or not a person is open to this evidence. Geniuses of history have been believers, and geniuses of history have been atheists. There is more to the question “is there a God?” than purely intellectual concerns. Ultimately, how a person attempts to answer the question “is there a God?” strongly reflects the answer he or she prefers. There are reasonable and unreasonable approaches, open-minded and closed-minded ways to look at the same information. If a person is committed to rejecting God, evidence and reason aren’t going to make much difference. Of course, this is also true for those who believe in God and wouldn’t disbelieve under any circumstances.\\nHistorical, scientific, and personal evidence are meaningless to the person with a deliberate intent to disbelieve. Yet most people don’t want to seem unreasonable, so those who refuse to believe often insert other objections. This results in the common error of demanding direct, miraculous, personal revelation. This is the “if God would show me a miracle, I would believe” approach. Or the “if God would write John 3:16 on the moon” approach. Jesus warned against such unbelief in Matthew 12:39, “A wicked and adulterous generation asks for a sign!”\\nImagine a person refusing to believe in Abraham Lincoln unless Lincoln posted a YouTube video calling them by name. Or a girl refusing to believe that someone loves her, despite letters, gifts, and conversations to that effect; what she demands is that the person burn her house down to prove his love. Those aren’t reasonable requests, and the person making them is really saying, “I don’t want to believe that.” Such people aren’t going believe the mundane evidence, so they’re just as liable to reject the miraculous evidence (see Luke 16:31).\\nThose unsure about whether or not God exists are encouraged to seek Him (Matthew 7:7), examine the evidence (Acts 17:11; 1 Thessalonians 5:21), and be open-minded. Christianity has nothing to fear from the truth (John 10:10), and we have ample reasons to be confident in our answer to the question “is there a God?”',\n",
       "   'category': 'Questions about God'}},\n",
       " {'_index': 'vector-embeddings-answer',\n",
       "  '_id': 'ERshhJQBphcFVFwuGIfH',\n",
       "  '_score': 0.7689178,\n",
       "  '_source': {'sub.category': 'The Identity of God',\n",
       "   'question': 'What is the aseity of God?',\n",
       "   'answer': 'The aseity of God is His attribute of independent self-existence. God is the uncaused Cause, the uncreated Creator. He is the source of all things, the One who originated everything and who sustains everything that exists. The aseity of God means that He is the One in whom all other things find their source, existence, and continuance. He is the ever-present Power that sustains all life. There is no other source of life and none other like Him: “For I am God, and there is no other; I am God, and there is none like Me” (Isaiah 46:9).\\nThe aseity of God is expressed in Exodus 3:14. When Moses asked the Lord about His name, God replied, “I AM WHO I AM.” God is the eternally self-existent Being who always was and always will be. The aseity of God is related to His complete independence. God has no need. He is complete in and of Himself and always has been. God did not create man because He was lonely or because He needed to create. He is and always has been complete and self-sufficient in and of Himself.\\nGod’s name I AM embodies the concept of God’s eternality and immutability, both of which are linked to His aseity. God is eternal (Psalm 90:2). He did not have a beginning. He has always been.  God is unchangeable (Malachi 3:6; James 1:17), always the same yesterday, today, and forever. He will be what He is forever.  All of God’s attributes—His love, power, wisdom, etc.—are eternal and unchanging. They are as they have always been and will never be any different.\\nGod’s aseity assures us that His autonomy is absolute. He alone decides what to do, and nothing can ever thwart His purpose to keep His promises. What He promises to do, He will do. What He predicts will come to pass. When God says, “My purpose will stand, and I will do all that I please” (Isaiah 46:10), He is emphasizing His aseity and sovereignty.\\nJesus Christ, being God in flesh, shares the aseity of God with the Father. Jesus claimed the name I AM for Himself (John 8:58; 18:6). Speaking of Jesus, Paul declares, “In him all things were created: things in heaven and on earth, visible and invisible, whether thrones or powers or rulers or authorities; all things have been created through him and for him. He is before all things, and in him all things hold together” (Colossians 1:16–17). Jesus is not a created being. He came to earth as God in flesh and after His resurrection ascended back into heaven to take His rightful place as Creator of the universe. In the Old Testament, God declared to the Israelites that He is “the First and the Last” (Isaiah 44:6b). Jesus made the same declaration about Himself in Revelation 1:17.\\nBecause of the aseity of God, we can depend upon Him as the independent One who is able to deliver, protect, and keep those who trust in Him. Those whom God has purposed for salvation will come to Christ, and nothing can hinder them: “All those the Father gives me will come to me, and whoever comes to me I will never drive away” (John 6:37). If we understand the biblical doctrine of the aseity of God, we will be kept from the error of thinking that God is finite,  that He grows weary, or that He will ever be insufficient to meet our needs (see Psalm 23:1).',\n",
       "   'category': 'Questions about God'}}]"
      ]
     },
     "execution_count": 85,
     "metadata": {},
     "output_type": "execute_result"
    }
   ],
   "source": [
    "res = search_client.search(index=index_name, knn=query, source=[\"category\", \"sub.category\", \"question\", \"answer\"])\n",
    "res[\"hits\"][\"hits\"]"
   ]
  },
  {
   "cell_type": "code",
   "execution_count": null,
   "metadata": {},
   "outputs": [],
   "source": []
  },
  {
   "cell_type": "code",
   "execution_count": null,
   "metadata": {},
   "outputs": [],
   "source": []
  }
 ],
 "metadata": {
  "kernelspec": {
   "display_name": "env",
   "language": "python",
   "name": "python3"
  },
  "language_info": {
   "codemirror_mode": {
    "name": "ipython",
    "version": 3
   },
   "file_extension": ".py",
   "mimetype": "text/x-python",
   "name": "python",
   "nbconvert_exporter": "python",
   "pygments_lexer": "ipython3",
   "version": "3.12.3"
  }
 },
 "nbformat": 4,
 "nbformat_minor": 2
}
