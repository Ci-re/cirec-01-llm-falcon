{
  "nbformat": 4,
  "nbformat_minor": 0,
  "metadata": {
    "colab": {
      "private_outputs": true,
      "provenance": [],
      "gpuType": "T4",
      "mount_file_id": "1gn_C274O_WQdVuk8cDUE_O3mkbZgVtku",
      "authorship_tag": "ABX9TyNbsQ79P9+537TtpnYZVbgX",
      "include_colab_link": true
    },
    "kernelspec": {
      "name": "python3",
      "display_name": "Python 3"
    },
    "language_info": {
      "name": "python"
    },
    "accelerator": "GPU"
  },
  "cells": [
    {
      "cell_type": "markdown",
      "metadata": {
        "id": "view-in-github",
        "colab_type": "text"
      },
      "source": [
        "<a href=\"https://colab.research.google.com/github/Ci-re/cirec-01-llm-falcon/blob/main/restore_punctuation.ipynb\" target=\"_parent\"><img src=\"https://colab.research.google.com/assets/colab-badge.svg\" alt=\"Open In Colab\"/></a>"
      ]
    },
    {
      "cell_type": "code",
      "execution_count": null,
      "metadata": {
        "id": "ri5aTAaTAn-_"
      },
      "outputs": [],
      "source": [
        "! pip install deepmultilingualpunctuation"
      ]
    },
    {
      "cell_type": "code",
      "source": [
        "from deepmultilingualpunctuation import PunctuationModel\n",
        "\n",
        "model = PunctuationModel()\n",
        "text = \"Hello good morning james how are you doing\"\n",
        "result = model.restore_punctuation(text)\n",
        "print(result)"
      ],
      "metadata": {
        "id": "oXDUKewaBBsF"
      },
      "execution_count": null,
      "outputs": []
    },
    {
      "cell_type": "code",
      "source": [
        "! pip install dask[complete]"
      ],
      "metadata": {
        "id": "jAGkstiRBE_t"
      },
      "execution_count": null,
      "outputs": []
    },
    {
      "cell_type": "code",
      "source": [
        "import dask.bag as db\n",
        "import glob\n",
        "import json\n",
        "\n",
        "\n",
        "\n",
        "dd_data = db.read_text(\"*.json\").map(json.loads)\n",
        "dd_data"
      ],
      "metadata": {
        "id": "D3drh84hAO8t"
      },
      "execution_count": null,
      "outputs": []
    },
    {
      "source": [
        "import dask.dataframe as dd\n",
        "import pandas as pd\n",
        "from deepmultilingualpunctuation import PunctuationModel\n",
        "\n",
        "def restore_punctuation_safe(text, model):\n",
        "    if isinstance(text, str):\n",
        "        return model.restore_punctuation(text)\n",
        "    else:\n",
        "        return \"\"\n",
        "\n",
        "files_list = glob.glob(\"*.json\")\n",
        "for file in files_list:\n",
        "  dat = pd.read_json(file)\n",
        "  dat = dd.from_pandas(dat, npartitions=4)\n",
        "  dat = dat[[\"minister\", \"channel_name\", \"title\", \"description\", \"transcript\"]]\n",
        "\n",
        "  model = PunctuationModel()\n",
        "\n",
        "  meta = dat.head(0)\n",
        "\n",
        "  dat = dat[dat['transcript'].str.len() > 10]\n",
        "\n",
        "  ddat = dat.map_partitions(\n",
        "      lambda df: df.assign(transcript=df['transcript'].apply(restore_punctuation_safe, args=(model,))),\n",
        "      meta=meta\n",
        "  )\n",
        "\n",
        "  ddat = ddat.compute()\n",
        "  with open(f\"{file}_new.json\", \"w\") as f_in:\n",
        "    json.dump(ddat.to_dict(orient=\"records\"), f_in)"
      ],
      "cell_type": "code",
      "metadata": {
        "id": "JCXkIjnYOPAK"
      },
      "execution_count": null,
      "outputs": []
    },
    {
      "cell_type": "code",
      "source": [
        "ddat"
      ],
      "metadata": {
        "id": "3Y0o68YKOZmH"
      },
      "execution_count": null,
      "outputs": []
    }
  ]
}