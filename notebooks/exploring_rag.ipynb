{
 "cells": [
  {
   "cell_type": "code",
   "execution_count": 1,
   "metadata": {},
   "outputs": [
    {
     "name": "stderr",
     "output_type": "stream",
     "text": [
      "/home/cirec/.cache/pypoetry/virtualenvs/cirec-01-llm-falcon-KwmbxNdi-py3.12/lib/python3.12/site-packages/tqdm/auto.py:21: TqdmWarning: IProgress not found. Please update jupyter and ipywidgets. See https://ipywidgets.readthedocs.io/en/stable/user_install.html\n",
      "  from .autonotebook import tqdm as notebook_tqdm\n"
     ]
    }
   ],
   "source": [
    "import pandas as pd\n",
    "import numpy as np\n",
    "import os\n",
    "from datasets import load_dataset\n",
    "from dotenv import load_dotenv\n",
    "import google.generativeai as genai\n",
    "from minsearch import Index"
   ]
  },
  {
   "cell_type": "code",
   "execution_count": 2,
   "metadata": {},
   "outputs": [],
   "source": [
    "load_dotenv()\n",
    "genai.configure(api_key=os.environ[\"API_KEY\"])"
   ]
  },
  {
   "cell_type": "code",
   "execution_count": 4,
   "metadata": {},
   "outputs": [
    {
     "data": {
      "text/plain": [
       "list"
      ]
     },
     "execution_count": 4,
     "metadata": {},
     "output_type": "execute_result"
    }
   ],
   "source": [
    "# Prepare dataset\n",
    "# using gotquestions dataset\n",
    "\n",
    "import json\n",
    "\n",
    "with open(\"datasets/questions_answer.json\", 'rt') as f_in:\n",
    "    data = json.load(f_in)\n",
    "\n",
    "type(data)"
   ]
  },
  {
   "cell_type": "code",
   "execution_count": 5,
   "metadata": {},
   "outputs": [
    {
     "data": {
      "text/plain": [
       "{'category': 'Questions about God',\n",
       " 'sub.category': 'The Nature of God',\n",
       " 'question': 'What are the attributes of God?',\n",
       " 'answer': 'The Bible, God’s Word, tells us what God is like and what He is not like. Without the authority of the Bible, any attempt to explain God’s attributes (inherent qualities) would be no better than an opinion, which by itself is often incorrect, especially in understanding God (Job 42:7). To say that it is important for us to try to understand what God is like is a huge understatement. Failure to do so can cause us to set up, chase after, and worship false gods contrary to His will (Exodus 20:3-5).\\n\\nOnly what God has chosen to reveal of Himself can be known. One of God’s attributes or qualities is “light,” meaning that He is self-revealing in information of Himself (Isaiah 60:19; James 1:17). The fact that God has revealed knowledge of Himself should not be neglected (Hebrews 4:1). Creation, the Bible, and the Word made flesh (Jesus Christ) will help us to know what God is like.\\nLet’s start by understanding that God is our Creator and that we are a part of His creation (Genesis 1:1; Psalm 24:1) and are created in His image. Man is above the rest of creation and was given dominion over it (Genesis 1:26-28). Creation is marred by the fall but still offers a glimpse of God’s works (Genesis 3:17-18; Romans 1:19-20). By considering creation’s vastness, complexity, beauty, and order, we can have a sense of the awesomeness of God.\\nReading through some of the names of God can be helpful in our search of what God is like. They are as follows:\\nElohim - strong One, divine (Genesis 1:1)\\nAdonai - Lord, indicating a Master-to-servant relationship (Exodus 4:10, 13)\\nEl Elyon - Most High, the strongest One (Genesis 14:20)\\nEl Roi - the strong One who sees (Genesis 16:13)\\nEl Shaddai - Almighty God (Genesis 17:1)\\nEl Olam - Everlasting God (Isaiah 40:28)\\nYahweh - LORD “I AM,” meaning the eternal, self-existent God (Exodus 3:13, 14).\\nGod is eternal, meaning He had no beginning and His existence will never end. He is immortal and infinite (Deuteronomy 33:27; Psalm 90:2; 1 Timothy 1:17). God is immutable, meaning He is unchanging; this in turn means that God is absolutely reliable and trustworthy (Malachi 3:6; Numbers 23:19; Psalm 102:26, 27). God is incomparable; there is no one like Him in works or being. He is unequaled and perfect (2 Samuel 7:22; Psalm 86:8; Isaiah 40:25; Matthew 5:48). God is inscrutable, unfathomable, unsearchable, and past finding out as far as understanding Him completely (Isaiah 40:28; Psalm 145:3; Romans 11:33, 34).\\nGod is just; He is no respecter of persons in the sense of showing favoritism (Deuteronomy 32:4; Psalm 18:30). God is omnipotent; He is all-powerful and can do anything that pleases Him, but His actions will always be in accord with the rest of His character (Revelation 19:6; Jeremiah 32:17, 27). God is omnipresent, meaning He is present everywhere, but this does not mean that God is everything (Psalm 139:7-13; Jeremiah 23:23). God is omniscient, meaning He knows the past, present, and future, including what we are thinking at any given moment. Since He knows everything, His justice will always be administered fairly (Psalm 139:1-5; Proverbs 5:21).\\nGod is one; not only is there no other, but He is alone in being able to meet the deepest needs and longings of our hearts. God alone is worthy of our worship and devotion (Deuteronomy 6:4). God is righteous, meaning that God cannot and will not pass over wrongdoing. It is because of God’s righteousness and justice that, in order for our sins to be forgiven, Jesus had to experience God’s wrath when our sins were placed upon Him (Exodus 9:27; Matthew 27:45-46; Romans 3:21-26).\\nGod is sovereign, meaning He is supreme. All of His creation put together cannot thwart His purposes (Psalm 93:1; 95:3; Jeremiah 23:20). God is spirit, meaning He is invisible (John 1:18; 4:24). God is a Trinity. He is three in one, the same in substance, equal in power and glory. God is truth, He will remain incorruptible and cannot lie (Psalm 117:2; 1 Samuel 15:29).\\nGod is holy, separated from all moral defilement and hostile toward it. God sees all evil and it angers Him. God is referred to as a consuming fire (Isaiah 6:3; Habakkuk 1:13; Exodus 3:2, 4-5; Hebrews 12:29). God is gracious, and His grace includes His goodness, kindness, mercy, and love. If it were not for God’s grace, His holiness would exclude us from His presence. Thankfully, this is not the case, for He desires to know each of us personally (Exodus 34:6; Psalm 31:19; 1 Peter 1:3; John 3:16, 17:3).\\nSince God is an infinite Being, no human can fully answer this God-sized question, but through God’s Word, we can understand much about who God is and what He is like. May we all wholeheartedly continue to seek after Him (Jeremiah 29:13).',\n",
       " 'source': 'https://www.gotquestions.org/attributes-God.html'}"
      ]
     },
     "execution_count": 5,
     "metadata": {},
     "output_type": "execute_result"
    }
   ],
   "source": [
    "# Clean answer key in data\n",
    "for i in range(len(data)):\n",
    "    data[i]['answer'] = data[i]['answer'].replace('Answer\\n', '')\n",
    "\n",
    "data[3]"
   ]
  },
  {
   "cell_type": "code",
   "execution_count": 5,
   "metadata": {},
   "outputs": [
    {
     "data": {
      "text/plain": [
       "<minsearch.minsearch.Index at 0x76c4304eb2c0>"
      ]
     },
     "execution_count": 5,
     "metadata": {},
     "output_type": "execute_result"
    }
   ],
   "source": [
    "\n",
    "index = Index(\n",
    "    text_fields = [\"question\", \"answer\", \"sub.category\"],\n",
    "    keyword_fields = [\"category\"]\n",
    ")\n",
    "\n",
    "index.fit(data)"
   ]
  },
  {
   "cell_type": "code",
   "execution_count": 6,
   "metadata": {},
   "outputs": [],
   "source": [
    "def search(query):\n",
    "# filter_dict = {\"category\": \"Questions about God\"}\n",
    "    boost_dict = {\"question\": 3, \"answer\": 1, \"sub.category\": 1}\n",
    "\n",
    "    return index.search(query, boost_dict, num_results=5)"
   ]
  },
  {
   "cell_type": "code",
   "execution_count": 11,
   "metadata": {},
   "outputs": [],
   "source": [
    "def build_prompt(query, search_results):\n",
    "    prompt_template = \"\"\"\n",
    "    You are a spiritual assistant, your goal is to answer questions about christian spirituality like God, Jesus, Holy Spirit, and Life as a believer of this spirituality.\n",
    "    Answer the QUESTIONS based on the CONTEXT when answering the QUESTION.\n",
    "    Answer the questions as if you are a spiritual assistant using the CONTEXT given. Don't provide personal opinions or beliefs.\n",
    "    If the CONTEXT doesn't match or contain the answer, give NONE as the response.\n",
    "    \n",
    "    QUESTION : {question}\n",
    "    \n",
    "    CONTEXT: {context}\n",
    "    \n",
    "    \"\"\".strip()\n",
    "\n",
    "    # context = \"\"\n",
    "    # for doc in search_results:\n",
    "    #     context = f'{context}sub.category: {doc[\"sub.category\"]} \\nquestion: {doc[\"question\"]} \\nanswer: {doc[\"answer\"]}\\n\\n'\n",
    "\n",
    "    return prompt_template.format(question= query, context=search_results).strip()"
   ]
  },
  {
   "cell_type": "code",
   "execution_count": 12,
   "metadata": {},
   "outputs": [],
   "source": [
    "def llm(prompt):\n",
    "    model = genai.GenerativeModel(\"gemini-1.5-pro\")\n",
    "    result = model.generate_content(prompt)\n",
    "    return result.text\n",
    "    "
   ]
  },
  {
   "cell_type": "code",
   "execution_count": 13,
   "metadata": {},
   "outputs": [],
   "source": [
    "def rag(query):\n",
    "    results = search(query)\n",
    "    prompt = build_prompt(query, results)\n",
    "    return llm(prompt)"
   ]
  },
  {
   "cell_type": "code",
   "execution_count": 14,
   "metadata": {},
   "outputs": [
    {
     "data": {
      "text/plain": [
       "\"Unlike the question “Does God exist?” the question of whether Jesus Christ existed is asked by relatively few people. Most accept that Jesus was truly a man who lived in Israel 2,000 years ago. The debate begins with the discussion of Jesus’ full identity. Almost every major religion teaches that Jesus was a prophet or a good teacher or a godly man. But the Bible tells us that Jesus was infinitely more than a prophet, a good teacher, or a godly man.  Jesus claimed to be one with the Father, a claim understood by those around him to be a declaration of deity.  The Bible supports this claim in numerous passages, including John 1, John 10:30, John 8:58, Titus 2:13, 2 Peter 1:1, and Hebrews 1:8.  Old Testament prophecies, such as Isaiah 9:6, also foretold the coming of God in the form of a child. Jesus’ identity as God is crucial because it speaks to his trustworthiness, the validity of the apostles' testimony, the sufficiency of his sacrifice for sin, and his role as the sole mediator between God and humanity.  Only through faith in Jesus Christ, the way, the truth, and the life, can one come to the Father.\\n\""
      ]
     },
     "execution_count": 14,
     "metadata": {},
     "output_type": "execute_result"
    }
   ],
   "source": [
    "rag(\"Who is Jesus Christ?\")"
   ]
  },
  {
   "cell_type": "code",
   "execution_count": 10,
   "metadata": {},
   "outputs": [
    {
     "data": {
      "text/plain": [
       "ObjectApiResponse({'name': '1c8c5ef7455c', 'cluster_name': 'docker-cluster', 'cluster_uuid': 'udKfcH7JTWKMWqDcPwIwbA', 'version': {'number': '8.4.3', 'build_flavor': 'default', 'build_type': 'docker', 'build_hash': '42f05b9372a9a4a470db3b52817899b99a76ee73', 'build_date': '2022-10-04T07:17:24.662462378Z', 'build_snapshot': False, 'lucene_version': '9.3.0', 'minimum_wire_compatibility_version': '7.17.0', 'minimum_index_compatibility_version': '7.0.0'}, 'tagline': 'You Know, for Search'})"
      ]
     },
     "execution_count": 10,
     "metadata": {},
     "output_type": "execute_result"
    }
   ],
   "source": [
    "## Implementing Vector Search using elastic search\n",
    "\n",
    "from elasticsearch import Elasticsearch\n",
    "\n",
    "search_client = Elasticsearch(\"http://localhost:9200/\")\n",
    "search_client.info()"
   ]
  },
  {
   "cell_type": "code",
   "execution_count": 12,
   "metadata": {},
   "outputs": [
    {
     "data": {
      "text/plain": [
       "ObjectApiResponse({'acknowledged': True, 'shards_acknowledged': True, 'index': 'got_questions'})"
      ]
     },
     "execution_count": 12,
     "metadata": {},
     "output_type": "execute_result"
    }
   ],
   "source": [
    "index_settings = {\n",
    "    \"settings\": {\n",
    "        \"number_of_shards\": 1,\n",
    "        \"number_of_replicas\": 0\n",
    "    },\n",
    "    \"mappings\": {\n",
    "        \"properties\": {\n",
    "            \"answer\": {\"type\": \"text\"},\n",
    "            \"sub.category\": {\"type\": \"text\"},\n",
    "            \"question\": {\"type\": \"text\"},\n",
    "            \"category\": {\"type\": \"keyword\"} \n",
    "        }\n",
    "    }\n",
    "}\n",
    "\n",
    "# delete an index\n",
    "\n",
    "\n",
    "index_name = \"got_questions\"\n",
    "# search_client.indices.delete(index=index_name)\n",
    "search_client.indices.create(index=index_name, body=index_settings)\n"
   ]
  },
  {
   "cell_type": "code",
   "execution_count": 13,
   "metadata": {},
   "outputs": [
    {
     "name": "stderr",
     "output_type": "stream",
     "text": [
      "100%|██████████| 6398/6398 [01:30<00:00, 70.64it/s] \n"
     ]
    }
   ],
   "source": [
    "from tqdm import tqdm\n",
    "\n",
    "for doc in tqdm(data):\n",
    "    search_client.index(index=index_name, document=doc)\n"
   ]
  },
  {
   "cell_type": "code",
   "execution_count": 14,
   "metadata": {},
   "outputs": [],
   "source": [
    "def elastic_search(query):\n",
    "    result_docs = []\n",
    "    search_query = {\n",
    "        \"size\": 5,\n",
    "        \"query\": {\n",
    "            \"bool\": {\n",
    "                \"must\": {\n",
    "                    \"multi_match\": {\n",
    "                        \"query\": query,\n",
    "                        \"fields\": [\"question^3\", \"answer\", \"sub.category\"],\n",
    "                        \"type\": \"best_fields\"\n",
    "                    }\n",
    "                }\n",
    "            }\n",
    "        }\n",
    "    }\n",
    "    response = search_client.search(index=index_name, body=search_query)\n",
    "    result_docs.extend(hits['_source'] for hits in response['hits']['hits'])\n",
    "    return result_docs"
   ]
  },
  {
   "cell_type": "code",
   "execution_count": 16,
   "metadata": {},
   "outputs": [],
   "source": [
    "# elastic_search(\"The love of God is always merciful, what does tPrincipalities and powerhis mean?\")"
   ]
  },
  {
   "cell_type": "code",
   "execution_count": 21,
   "metadata": {},
   "outputs": [
    {
     "name": "stdout",
     "output_type": "stream",
     "text": [
      "The devil is a deceiver who “prowls around like a roaring lion seeking whom he may devour” (1 Peter 5:8).  He tempts humans to sin against God, appealing to the lust of the flesh, the lust of the eyes, and the pride of life (1 John 2:16).  He also fills people’s hearts with lies (Acts 5:3). He uses various tactics such as exploiting weaknesses, manipulating with false guilt, twisting Scripture, and deceiving.\n",
      "\n"
     ]
    }
   ],
   "source": [
    "query = \"Who is the devil and how does he ruin us as believers?\"\n",
    "search_query = elastic_search(query)\n",
    "prompt = build_prompt(query, search_query)\n",
    "answer = llm(prompt)\n",
    "print(answer)"
   ]
  },
  {
   "cell_type": "code",
   "execution_count": 6,
   "metadata": {},
   "outputs": [
    {
     "data": {
      "text/plain": [
       "array([ 9.74732116e-02,  6.04952388e-02,  4.48007435e-02,  4.43959720e-02,\n",
       "        2.89802290e-02,  2.46002525e-02,  2.87308935e-02, -3.63137876e-03,\n",
       "        7.79270679e-02,  4.62326556e-02,  7.30155483e-02, -7.47010335e-02,\n",
       "       -1.49526345e-02, -2.45079212e-02,  7.45045021e-03, -3.75776179e-02,\n",
       "        2.74516121e-02, -5.38864881e-02, -1.24066614e-01, -7.13273790e-03,\n",
       "       -1.03776567e-02,  3.88279147e-02, -4.40417938e-02, -1.80881936e-02,\n",
       "       -6.37384579e-02,  5.26146889e-02, -6.59174621e-02,  5.18055223e-02,\n",
       "        9.10281539e-02, -2.85339616e-02, -2.75604744e-02, -1.53536592e-02,\n",
       "        5.78026436e-02,  3.17436159e-02, -9.66506451e-03, -2.25416454e-03,\n",
       "        3.52889951e-03,  2.36713048e-02,  3.73884314e-03, -7.30207143e-03,\n",
       "        1.30881998e-03, -5.69570325e-02, -7.05083553e-03,  3.59891914e-02,\n",
       "       -2.65217721e-02, -3.53452489e-02, -2.56818347e-03, -2.15219613e-02,\n",
       "        3.56441922e-02,  3.21477279e-02, -7.80247301e-02, -7.43311942e-02,\n",
       "       -6.67421445e-02, -6.93955347e-02,  7.23617664e-03,  4.72171940e-02,\n",
       "        1.63983479e-02,  3.75849232e-02,  1.47747034e-02, -1.27205644e-02,\n",
       "        9.31069907e-03, -3.32923904e-02, -7.34167397e-02,  5.11925444e-02,\n",
       "        1.90643474e-01, -2.00808961e-02, -7.06243562e-04, -5.86365201e-02,\n",
       "       -7.19236881e-02,  1.48472013e-02,  1.62908323e-02,  3.80082428e-02,\n",
       "        6.00004569e-04,  1.71654299e-02, -7.30573013e-02, -1.05210952e-01,\n",
       "       -8.24625790e-03, -3.83122079e-02,  1.26881629e-01,  1.39981046e-01,\n",
       "       -5.98731898e-02, -8.57971683e-02, -1.73280723e-02,  3.66234481e-02,\n",
       "        2.36791596e-02, -6.51903376e-02,  4.45638672e-02, -1.23649545e-01,\n",
       "       -2.13606115e-02, -1.09023722e-02,  2.44202111e-02, -1.50812501e-02,\n",
       "        5.42427599e-02,  3.72474827e-02, -2.27901507e-02, -2.86716949e-02,\n",
       "       -2.51686312e-02,  1.07856337e-02, -4.90391999e-02,  1.24495886e-01,\n",
       "        4.06646519e-04,  3.64316218e-02,  3.52642834e-02,  4.69423160e-02,\n",
       "       -5.15200645e-02, -1.28000766e-01, -4.16954570e-02, -2.81338803e-02,\n",
       "       -1.17794387e-02, -2.40902938e-02, -2.40081772e-02, -3.03099360e-02,\n",
       "        4.62798513e-02,  8.93573184e-03,  1.52379088e-02,  2.26955619e-02,\n",
       "       -9.14040059e-02, -1.19017884e-02, -1.96854006e-02,  3.65506560e-02,\n",
       "        1.57295931e-02,  6.69428483e-02, -4.28219698e-02,  3.04563064e-02,\n",
       "       -8.97866860e-02, -8.41320157e-02,  3.60324942e-02, -5.02690167e-33,\n",
       "        2.38190945e-02, -1.96610950e-03,  4.76096431e-03,  4.79773991e-02,\n",
       "       -8.30201432e-03, -2.30050832e-02, -4.19795550e-02,  8.03381484e-03,\n",
       "       -5.47763407e-02, -6.01141341e-02, -8.07784218e-03, -5.83698787e-02,\n",
       "       -8.25611316e-03,  3.74243110e-02,  8.21086466e-02,  8.41316879e-02,\n",
       "       -6.73837289e-02,  7.10978135e-02, -8.44852719e-03,  4.43371497e-02,\n",
       "       -4.50112820e-02,  2.13725287e-02,  3.73206567e-03, -3.11024487e-02,\n",
       "        3.28250020e-03, -5.59717417e-02,  1.91383865e-02,  8.57368950e-03,\n",
       "       -5.91045097e-02,  4.83135469e-02,  3.91368642e-02,  4.16288935e-02,\n",
       "        1.72044598e-02, -3.54949683e-02,  1.88180264e-02,  2.05685366e-02,\n",
       "        7.34844953e-02, -4.41872142e-02,  4.19748295e-03, -2.69070938e-02,\n",
       "       -6.21732324e-02, -4.59174216e-02, -3.23652551e-02, -8.86976197e-02,\n",
       "        7.51591027e-02,  8.81019309e-02,  5.57211451e-02,  5.45592513e-03,\n",
       "       -3.22755352e-02, -3.16641689e-03, -2.83919275e-02,  3.76339722e-03,\n",
       "        2.09864397e-02, -3.62894428e-03,  4.32578474e-02,  8.80086347e-02,\n",
       "       -6.95595169e-04,  9.21089901e-04, -2.05693077e-02, -2.22638771e-02,\n",
       "        1.10772327e-02,  3.72241922e-02, -7.36538097e-02,  4.93273288e-02,\n",
       "       -1.19097820e-02,  2.53973957e-02,  3.70192379e-02,  6.58989709e-04,\n",
       "        2.39973385e-02, -2.05220506e-02, -5.26243486e-02, -4.41119522e-02,\n",
       "        2.57173739e-02,  6.69579208e-02, -3.22778672e-02,  8.31390545e-03,\n",
       "        5.87013811e-02,  7.47620245e-04, -3.33281718e-02,  1.01565786e-01,\n",
       "       -5.82716763e-02, -9.19872895e-02, -4.80193505e-03,  3.15311477e-02,\n",
       "       -5.16224094e-02, -3.23177734e-03,  2.78395275e-03, -4.96373661e-02,\n",
       "       -6.38584718e-02,  7.32852742e-02,  1.57856580e-03, -9.93682537e-03,\n",
       "        7.10541829e-02, -1.38336159e-02, -8.01932253e-03,  2.39008344e-33,\n",
       "       -3.29602621e-02,  1.66793764e-02, -9.25422907e-02,  5.27516343e-02,\n",
       "        4.26350757e-02, -1.90721657e-02,  7.47085258e-04, -3.14058773e-02,\n",
       "        5.15502952e-02,  1.52602032e-01, -9.87235606e-02,  4.33818847e-02,\n",
       "        2.35256506e-03,  7.69330654e-03,  7.56503791e-02,  5.22773266e-02,\n",
       "        8.43498111e-02,  2.52944436e-02, -1.20943096e-02,  7.03178579e-03,\n",
       "       -3.58992368e-02,  8.23864713e-02, -6.79866783e-03,  5.08384891e-02,\n",
       "       -4.22913246e-02,  2.61473376e-02,  1.11930519e-02, -2.92919967e-02,\n",
       "       -9.01756734e-02,  1.85819548e-02,  3.64821102e-03, -1.23836033e-01,\n",
       "       -8.62228721e-02, -3.19661200e-02,  1.39498254e-02,  9.71086975e-03,\n",
       "        1.19105903e-02, -3.59655507e-02, -6.09096736e-02, -9.09483340e-03,\n",
       "       -3.01395170e-02,  1.52693652e-02,  9.65144765e-03,  7.21647292e-02,\n",
       "        2.23577749e-02, -8.01172033e-02, -1.86083280e-02, -7.09950477e-02,\n",
       "       -3.03422865e-02,  4.86288033e-02, -4.47004773e-02,  2.37149205e-02,\n",
       "       -8.78869090e-03, -1.42410053e-02, -7.33061880e-02,  2.90383026e-02,\n",
       "        4.17536385e-02, -5.11344709e-02,  3.58222499e-02,  3.71665843e-02,\n",
       "       -7.27312639e-02,  3.41632403e-02, -8.46266747e-02,  5.18375672e-02,\n",
       "        4.00358588e-02, -1.34221222e-02, -1.22620184e-02,  3.61098759e-02,\n",
       "        3.51479650e-02,  2.51878016e-02,  7.29565844e-02,  6.32437021e-02,\n",
       "       -9.62093547e-02, -6.48528785e-02, -5.03087267e-02, -8.58366936e-02,\n",
       "       -9.17537138e-02, -4.39106533e-03, -8.85398984e-02, -3.71088162e-02,\n",
       "        7.62031972e-02, -2.31629498e-02, -9.26523190e-03, -9.74595323e-02,\n",
       "        1.96440169e-03, -4.09624539e-02, -1.04585185e-03, -1.00725733e-01,\n",
       "        1.70089379e-02, -3.99118327e-02, -3.82282659e-02, -6.67970069e-03,\n",
       "        9.12477002e-02, -6.79543847e-03, -3.90437357e-02, -2.10906546e-08,\n",
       "       -5.12434461e-04, -7.53674060e-02, -6.74831076e-03, -1.57074574e-02,\n",
       "        1.51185319e-02,  8.31913948e-02,  1.08594716e-01, -1.36138136e-02,\n",
       "       -9.88048688e-03,  4.52555306e-02,  8.40524435e-02, -1.46250250e-02,\n",
       "       -6.78088740e-02,  4.14562523e-02,  9.16970819e-02,  8.41255784e-02,\n",
       "       -4.15258296e-03, -1.58355590e-02, -1.46789914e-02,  5.25693707e-02,\n",
       "       -3.14203650e-02,  2.37914678e-02,  5.37503660e-02,  2.44045798e-02,\n",
       "        6.55772462e-02,  3.62848444e-03,  5.02070114e-02,  5.80941401e-02,\n",
       "        1.96327008e-02,  4.04107161e-02,  5.25022447e-02,  1.09958313e-01,\n",
       "       -1.31457234e-02,  6.75823018e-02, -2.28528176e-02,  1.19186565e-02,\n",
       "        5.01923300e-02, -4.75402735e-02,  6.58674017e-02, -8.96071196e-02,\n",
       "       -1.24276504e-02,  9.29649398e-02, -2.78457887e-02,  1.01596355e-01,\n",
       "       -5.93994446e-02,  2.52842158e-03,  3.21274661e-02, -6.67179748e-02,\n",
       "       -4.91207317e-02, -2.46387366e-02,  4.02527209e-03,  1.33040966e-02,\n",
       "        8.67205858e-02,  1.00061437e-02,  2.38837618e-02, -3.97755690e-02,\n",
       "        3.56239639e-02,  1.74531359e-02, -6.48851767e-02,  3.80347781e-02,\n",
       "       -3.07468558e-03,  7.08100572e-02,  2.93665081e-02, -9.80775356e-02],\n",
       "      dtype=float32)"
      ]
     },
     "execution_count": 6,
     "metadata": {},
     "output_type": "execute_result"
    }
   ],
   "source": [
    "# Vector search and Embeddings\n",
    "\n",
    "from sentence_transformers import SentenceTransformer\n",
    "\n",
    "model = SentenceTransformer(\"all-MiniLM-L6-v2\", cache_folder=\"./cache\")\n",
    "model.encode(\"This is a simple sentence\")"
   ]
  },
  {
   "cell_type": "code",
   "execution_count": 7,
   "metadata": {},
   "outputs": [
    {
     "name": "stderr",
     "output_type": "stream",
     "text": [
      "100%|██████████| 6398/6398 [10:51<00:00,  9.82it/s]\n"
     ]
    }
   ],
   "source": [
    "from tqdm.autonotebook import tqdm\n",
    "\n",
    "operations = []\n",
    "for doc in tqdm(data):\n",
    "    doc[\"answer_embedding\"] = model.encode(doc[\"answer\"]).tolist()\n",
    "    operations.append(doc)"
   ]
  },
  {
   "cell_type": "code",
   "execution_count": 31,
   "metadata": {},
   "outputs": [
    {
     "data": {
      "text/plain": [
       "384"
      ]
     },
     "execution_count": 31,
     "metadata": {},
     "output_type": "execute_result"
    }
   ],
   "source": [
    "len(model.encode(\"This is a simple sentence\"))"
   ]
  },
  {
   "cell_type": "code",
   "execution_count": 8,
   "metadata": {},
   "outputs": [],
   "source": [
    "index_settings = {\n",
    "    \"settings\": {\n",
    "        \"number_of_shards\": 1,\n",
    "        \"number_of_replicas\": 0\n",
    "    },\n",
    "    \"mappings\": {\n",
    "        \"properties\": {\n",
    "            \"answer\": {\"type\": \"text\"},\n",
    "            \"sub.category\": {\"type\": \"text\"},\n",
    "            \"question\": {\"type\": \"text\"},\n",
    "            \"category\": {\"type\": \"keyword\"} ,\n",
    "            \"answer_embedding\": {\"type\": \"dense_vector\", \"dims\": 384, \"index\": True, \"similarity\": \"cosine\"},\n",
    "        }\n",
    "    }\n",
    "}"
   ]
  },
  {
   "cell_type": "code",
   "execution_count": 11,
   "metadata": {},
   "outputs": [
    {
     "data": {
      "text/plain": [
       "ObjectApiResponse({'acknowledged': True, 'shards_acknowledged': True, 'index': 'vector-embeddings-answer'})"
      ]
     },
     "execution_count": 11,
     "metadata": {},
     "output_type": "execute_result"
    }
   ],
   "source": [
    "index_name = \"vector-embeddings-answer\"\n",
    "\n",
    "search_client.indices.delete(index=\"got_question_v\", ignore_unavailable=True)\n",
    "search_client.indices.create(index=index_name, body=index_settings)"
   ]
  },
  {
   "cell_type": "code",
   "execution_count": 12,
   "metadata": {},
   "outputs": [
    {
     "name": "stderr",
     "output_type": "stream",
     "text": [
      "  0%|          | 0/6398 [00:00<?, ?it/s]"
     ]
    },
    {
     "name": "stderr",
     "output_type": "stream",
     "text": [
      " 15%|█▌        | 980/6398 [00:09<00:49, 108.88it/s]\n"
     ]
    },
    {
     "ename": "KeyboardInterrupt",
     "evalue": "",
     "output_type": "error",
     "traceback": [
      "\u001b[0;31m---------------------------------------------------------------------------\u001b[0m",
      "\u001b[0;31mKeyboardInterrupt\u001b[0m                         Traceback (most recent call last)",
      "Cell \u001b[0;32mIn[12], line 3\u001b[0m\n\u001b[1;32m      1\u001b[0m \u001b[38;5;28;01mfor\u001b[39;00m doc \u001b[38;5;129;01min\u001b[39;00m tqdm(operations):\n\u001b[1;32m      2\u001b[0m     \u001b[38;5;28;01mtry\u001b[39;00m:\n\u001b[0;32m----> 3\u001b[0m         \u001b[43msearch_client\u001b[49m\u001b[38;5;241;43m.\u001b[39;49m\u001b[43mindex\u001b[49m\u001b[43m(\u001b[49m\u001b[43mindex\u001b[49m\u001b[38;5;241;43m=\u001b[39;49m\u001b[43mindex_name\u001b[49m\u001b[43m,\u001b[49m\u001b[43m \u001b[49m\u001b[43mdocument\u001b[49m\u001b[38;5;241;43m=\u001b[39;49m\u001b[43mdoc\u001b[49m\u001b[43m)\u001b[49m\n\u001b[1;32m      4\u001b[0m     \u001b[38;5;28;01mexcept\u001b[39;00m \u001b[38;5;167;01mException\u001b[39;00m \u001b[38;5;28;01mas\u001b[39;00m e:\n\u001b[1;32m      5\u001b[0m         \u001b[38;5;28mprint\u001b[39m(e)\n",
      "File \u001b[0;32m~/Documents/cirec-01-llm-falcon/env/lib/python3.12/site-packages/elasticsearch/_sync/client/utils.py:455\u001b[0m, in \u001b[0;36m_rewrite_parameters.<locals>.wrapper.<locals>.wrapped\u001b[0;34m(*args, **kwargs)\u001b[0m\n\u001b[1;32m    452\u001b[0m         \u001b[38;5;28;01mexcept\u001b[39;00m \u001b[38;5;167;01mKeyError\u001b[39;00m:\n\u001b[1;32m    453\u001b[0m             \u001b[38;5;28;01mpass\u001b[39;00m\n\u001b[0;32m--> 455\u001b[0m \u001b[38;5;28;01mreturn\u001b[39;00m \u001b[43mapi\u001b[49m\u001b[43m(\u001b[49m\u001b[38;5;241;43m*\u001b[39;49m\u001b[43margs\u001b[49m\u001b[43m,\u001b[49m\u001b[43m \u001b[49m\u001b[38;5;241;43m*\u001b[39;49m\u001b[38;5;241;43m*\u001b[39;49m\u001b[43mkwargs\u001b[49m\u001b[43m)\u001b[49m\n",
      "File \u001b[0;32m~/Documents/cirec-01-llm-falcon/env/lib/python3.12/site-packages/elasticsearch/_sync/client/__init__.py:2470\u001b[0m, in \u001b[0;36mElasticsearch.index\u001b[0;34m(self, index, document, body, id, error_trace, filter_path, human, if_primary_term, if_seq_no, op_type, pipeline, pretty, refresh, require_alias, routing, timeout, version, version_type, wait_for_active_shards)\u001b[0m\n\u001b[1;32m   2468\u001b[0m __body \u001b[38;5;241m=\u001b[39m document \u001b[38;5;28;01mif\u001b[39;00m document \u001b[38;5;129;01mis\u001b[39;00m \u001b[38;5;129;01mnot\u001b[39;00m \u001b[38;5;28;01mNone\u001b[39;00m \u001b[38;5;28;01melse\u001b[39;00m body\n\u001b[1;32m   2469\u001b[0m __headers \u001b[38;5;241m=\u001b[39m {\u001b[38;5;124m\"\u001b[39m\u001b[38;5;124maccept\u001b[39m\u001b[38;5;124m\"\u001b[39m: \u001b[38;5;124m\"\u001b[39m\u001b[38;5;124mapplication/json\u001b[39m\u001b[38;5;124m\"\u001b[39m, \u001b[38;5;124m\"\u001b[39m\u001b[38;5;124mcontent-type\u001b[39m\u001b[38;5;124m\"\u001b[39m: \u001b[38;5;124m\"\u001b[39m\u001b[38;5;124mapplication/json\u001b[39m\u001b[38;5;124m\"\u001b[39m}\n\u001b[0;32m-> 2470\u001b[0m \u001b[38;5;28;01mreturn\u001b[39;00m \u001b[38;5;28;43mself\u001b[39;49m\u001b[38;5;241;43m.\u001b[39;49m\u001b[43mperform_request\u001b[49m\u001b[43m(\u001b[49m\u001b[43m  \u001b[49m\u001b[38;5;66;43;03m# type: ignore[return-value]\u001b[39;49;00m\n\u001b[1;32m   2471\u001b[0m \u001b[43m    \u001b[49m\u001b[43m__method\u001b[49m\u001b[43m,\u001b[49m\n\u001b[1;32m   2472\u001b[0m \u001b[43m    \u001b[49m\u001b[43m__path\u001b[49m\u001b[43m,\u001b[49m\n\u001b[1;32m   2473\u001b[0m \u001b[43m    \u001b[49m\u001b[43mparams\u001b[49m\u001b[38;5;241;43m=\u001b[39;49m\u001b[43m__query\u001b[49m\u001b[43m,\u001b[49m\n\u001b[1;32m   2474\u001b[0m \u001b[43m    \u001b[49m\u001b[43mheaders\u001b[49m\u001b[38;5;241;43m=\u001b[39;49m\u001b[43m__headers\u001b[49m\u001b[43m,\u001b[49m\n\u001b[1;32m   2475\u001b[0m \u001b[43m    \u001b[49m\u001b[43mbody\u001b[49m\u001b[38;5;241;43m=\u001b[39;49m\u001b[43m__body\u001b[49m\u001b[43m,\u001b[49m\n\u001b[1;32m   2476\u001b[0m \u001b[43m    \u001b[49m\u001b[43mendpoint_id\u001b[49m\u001b[38;5;241;43m=\u001b[39;49m\u001b[38;5;124;43m\"\u001b[39;49m\u001b[38;5;124;43mindex\u001b[39;49m\u001b[38;5;124;43m\"\u001b[39;49m\u001b[43m,\u001b[49m\n\u001b[1;32m   2477\u001b[0m \u001b[43m    \u001b[49m\u001b[43mpath_parts\u001b[49m\u001b[38;5;241;43m=\u001b[39;49m\u001b[43m__path_parts\u001b[49m\u001b[43m,\u001b[49m\n\u001b[1;32m   2478\u001b[0m \u001b[43m\u001b[49m\u001b[43m)\u001b[49m\n",
      "File \u001b[0;32m~/Documents/cirec-01-llm-falcon/env/lib/python3.12/site-packages/elasticsearch/_sync/client/_base.py:271\u001b[0m, in \u001b[0;36mBaseClient.perform_request\u001b[0;34m(self, method, path, params, headers, body, endpoint_id, path_parts)\u001b[0m\n\u001b[1;32m    255\u001b[0m \u001b[38;5;28;01mdef\u001b[39;00m\u001b[38;5;250m \u001b[39m\u001b[38;5;21mperform_request\u001b[39m(\n\u001b[1;32m    256\u001b[0m     \u001b[38;5;28mself\u001b[39m,\n\u001b[1;32m    257\u001b[0m     method: \u001b[38;5;28mstr\u001b[39m,\n\u001b[0;32m   (...)\u001b[0m\n\u001b[1;32m    264\u001b[0m     path_parts: Optional[Mapping[\u001b[38;5;28mstr\u001b[39m, Any]] \u001b[38;5;241m=\u001b[39m \u001b[38;5;28;01mNone\u001b[39;00m,\n\u001b[1;32m    265\u001b[0m ) \u001b[38;5;241m-\u001b[39m\u001b[38;5;241m>\u001b[39m ApiResponse[Any]:\n\u001b[1;32m    266\u001b[0m     \u001b[38;5;28;01mwith\u001b[39;00m \u001b[38;5;28mself\u001b[39m\u001b[38;5;241m.\u001b[39m_otel\u001b[38;5;241m.\u001b[39mspan(\n\u001b[1;32m    267\u001b[0m         method,\n\u001b[1;32m    268\u001b[0m         endpoint_id\u001b[38;5;241m=\u001b[39mendpoint_id,\n\u001b[1;32m    269\u001b[0m         path_parts\u001b[38;5;241m=\u001b[39mpath_parts \u001b[38;5;129;01mor\u001b[39;00m {},\n\u001b[1;32m    270\u001b[0m     ) \u001b[38;5;28;01mas\u001b[39;00m otel_span:\n\u001b[0;32m--> 271\u001b[0m         response \u001b[38;5;241m=\u001b[39m \u001b[38;5;28;43mself\u001b[39;49m\u001b[38;5;241;43m.\u001b[39;49m\u001b[43m_perform_request\u001b[49m\u001b[43m(\u001b[49m\n\u001b[1;32m    272\u001b[0m \u001b[43m            \u001b[49m\u001b[43mmethod\u001b[49m\u001b[43m,\u001b[49m\n\u001b[1;32m    273\u001b[0m \u001b[43m            \u001b[49m\u001b[43mpath\u001b[49m\u001b[43m,\u001b[49m\n\u001b[1;32m    274\u001b[0m \u001b[43m            \u001b[49m\u001b[43mparams\u001b[49m\u001b[38;5;241;43m=\u001b[39;49m\u001b[43mparams\u001b[49m\u001b[43m,\u001b[49m\n\u001b[1;32m    275\u001b[0m \u001b[43m            \u001b[49m\u001b[43mheaders\u001b[49m\u001b[38;5;241;43m=\u001b[39;49m\u001b[43mheaders\u001b[49m\u001b[43m,\u001b[49m\n\u001b[1;32m    276\u001b[0m \u001b[43m            \u001b[49m\u001b[43mbody\u001b[49m\u001b[38;5;241;43m=\u001b[39;49m\u001b[43mbody\u001b[49m\u001b[43m,\u001b[49m\n\u001b[1;32m    277\u001b[0m \u001b[43m            \u001b[49m\u001b[43motel_span\u001b[49m\u001b[38;5;241;43m=\u001b[39;49m\u001b[43motel_span\u001b[49m\u001b[43m,\u001b[49m\n\u001b[1;32m    278\u001b[0m \u001b[43m        \u001b[49m\u001b[43m)\u001b[49m\n\u001b[1;32m    279\u001b[0m         otel_span\u001b[38;5;241m.\u001b[39mset_elastic_cloud_metadata(response\u001b[38;5;241m.\u001b[39mmeta\u001b[38;5;241m.\u001b[39mheaders)\n\u001b[1;32m    280\u001b[0m         \u001b[38;5;28;01mreturn\u001b[39;00m response\n",
      "File \u001b[0;32m~/Documents/cirec-01-llm-falcon/env/lib/python3.12/site-packages/elasticsearch/_sync/client/_base.py:316\u001b[0m, in \u001b[0;36mBaseClient._perform_request\u001b[0;34m(self, method, path, params, headers, body, otel_span)\u001b[0m\n\u001b[1;32m    313\u001b[0m \u001b[38;5;28;01melse\u001b[39;00m:\n\u001b[1;32m    314\u001b[0m     target \u001b[38;5;241m=\u001b[39m path\n\u001b[0;32m--> 316\u001b[0m meta, resp_body \u001b[38;5;241m=\u001b[39m \u001b[38;5;28;43mself\u001b[39;49m\u001b[38;5;241;43m.\u001b[39;49m\u001b[43mtransport\u001b[49m\u001b[38;5;241;43m.\u001b[39;49m\u001b[43mperform_request\u001b[49m\u001b[43m(\u001b[49m\n\u001b[1;32m    317\u001b[0m \u001b[43m    \u001b[49m\u001b[43mmethod\u001b[49m\u001b[43m,\u001b[49m\n\u001b[1;32m    318\u001b[0m \u001b[43m    \u001b[49m\u001b[43mtarget\u001b[49m\u001b[43m,\u001b[49m\n\u001b[1;32m    319\u001b[0m \u001b[43m    \u001b[49m\u001b[43mheaders\u001b[49m\u001b[38;5;241;43m=\u001b[39;49m\u001b[43mrequest_headers\u001b[49m\u001b[43m,\u001b[49m\n\u001b[1;32m    320\u001b[0m \u001b[43m    \u001b[49m\u001b[43mbody\u001b[49m\u001b[38;5;241;43m=\u001b[39;49m\u001b[43mbody\u001b[49m\u001b[43m,\u001b[49m\n\u001b[1;32m    321\u001b[0m \u001b[43m    \u001b[49m\u001b[43mrequest_timeout\u001b[49m\u001b[38;5;241;43m=\u001b[39;49m\u001b[38;5;28;43mself\u001b[39;49m\u001b[38;5;241;43m.\u001b[39;49m\u001b[43m_request_timeout\u001b[49m\u001b[43m,\u001b[49m\n\u001b[1;32m    322\u001b[0m \u001b[43m    \u001b[49m\u001b[43mmax_retries\u001b[49m\u001b[38;5;241;43m=\u001b[39;49m\u001b[38;5;28;43mself\u001b[39;49m\u001b[38;5;241;43m.\u001b[39;49m\u001b[43m_max_retries\u001b[49m\u001b[43m,\u001b[49m\n\u001b[1;32m    323\u001b[0m \u001b[43m    \u001b[49m\u001b[43mretry_on_status\u001b[49m\u001b[38;5;241;43m=\u001b[39;49m\u001b[38;5;28;43mself\u001b[39;49m\u001b[38;5;241;43m.\u001b[39;49m\u001b[43m_retry_on_status\u001b[49m\u001b[43m,\u001b[49m\n\u001b[1;32m    324\u001b[0m \u001b[43m    \u001b[49m\u001b[43mretry_on_timeout\u001b[49m\u001b[38;5;241;43m=\u001b[39;49m\u001b[38;5;28;43mself\u001b[39;49m\u001b[38;5;241;43m.\u001b[39;49m\u001b[43m_retry_on_timeout\u001b[49m\u001b[43m,\u001b[49m\n\u001b[1;32m    325\u001b[0m \u001b[43m    \u001b[49m\u001b[43mclient_meta\u001b[49m\u001b[38;5;241;43m=\u001b[39;49m\u001b[38;5;28;43mself\u001b[39;49m\u001b[38;5;241;43m.\u001b[39;49m\u001b[43m_client_meta\u001b[49m\u001b[43m,\u001b[49m\n\u001b[1;32m    326\u001b[0m \u001b[43m    \u001b[49m\u001b[43motel_span\u001b[49m\u001b[38;5;241;43m=\u001b[39;49m\u001b[43motel_span\u001b[49m\u001b[43m,\u001b[49m\n\u001b[1;32m    327\u001b[0m \u001b[43m\u001b[49m\u001b[43m)\u001b[49m\n\u001b[1;32m    329\u001b[0m \u001b[38;5;66;03m# HEAD with a 404 is returned as a normal response\u001b[39;00m\n\u001b[1;32m    330\u001b[0m \u001b[38;5;66;03m# since this is used as an 'exists' functionality.\u001b[39;00m\n\u001b[1;32m    331\u001b[0m \u001b[38;5;28;01mif\u001b[39;00m \u001b[38;5;129;01mnot\u001b[39;00m (method \u001b[38;5;241m==\u001b[39m \u001b[38;5;124m\"\u001b[39m\u001b[38;5;124mHEAD\u001b[39m\u001b[38;5;124m\"\u001b[39m \u001b[38;5;129;01mand\u001b[39;00m meta\u001b[38;5;241m.\u001b[39mstatus \u001b[38;5;241m==\u001b[39m \u001b[38;5;241m404\u001b[39m) \u001b[38;5;129;01mand\u001b[39;00m (\n\u001b[1;32m    332\u001b[0m     \u001b[38;5;129;01mnot\u001b[39;00m \u001b[38;5;241m200\u001b[39m \u001b[38;5;241m<\u001b[39m\u001b[38;5;241m=\u001b[39m meta\u001b[38;5;241m.\u001b[39mstatus \u001b[38;5;241m<\u001b[39m \u001b[38;5;241m299\u001b[39m\n\u001b[1;32m    333\u001b[0m     \u001b[38;5;129;01mand\u001b[39;00m (\n\u001b[0;32m   (...)\u001b[0m\n\u001b[1;32m    337\u001b[0m     )\n\u001b[1;32m    338\u001b[0m ):\n",
      "File \u001b[0;32m~/Documents/cirec-01-llm-falcon/env/lib/python3.12/site-packages/elastic_transport/_transport.py:342\u001b[0m, in \u001b[0;36mTransport.perform_request\u001b[0;34m(self, method, target, body, headers, max_retries, retry_on_status, retry_on_timeout, request_timeout, client_meta, otel_span)\u001b[0m\n\u001b[1;32m    340\u001b[0m \u001b[38;5;28;01mtry\u001b[39;00m:\n\u001b[1;32m    341\u001b[0m     otel_span\u001b[38;5;241m.\u001b[39mset_node_metadata(node\u001b[38;5;241m.\u001b[39mhost, node\u001b[38;5;241m.\u001b[39mport, node\u001b[38;5;241m.\u001b[39mbase_url, target)\n\u001b[0;32m--> 342\u001b[0m     resp \u001b[38;5;241m=\u001b[39m \u001b[43mnode\u001b[49m\u001b[38;5;241;43m.\u001b[39;49m\u001b[43mperform_request\u001b[49m\u001b[43m(\u001b[49m\n\u001b[1;32m    343\u001b[0m \u001b[43m        \u001b[49m\u001b[43mmethod\u001b[49m\u001b[43m,\u001b[49m\n\u001b[1;32m    344\u001b[0m \u001b[43m        \u001b[49m\u001b[43mtarget\u001b[49m\u001b[43m,\u001b[49m\n\u001b[1;32m    345\u001b[0m \u001b[43m        \u001b[49m\u001b[43mbody\u001b[49m\u001b[38;5;241;43m=\u001b[39;49m\u001b[43mrequest_body\u001b[49m\u001b[43m,\u001b[49m\n\u001b[1;32m    346\u001b[0m \u001b[43m        \u001b[49m\u001b[43mheaders\u001b[49m\u001b[38;5;241;43m=\u001b[39;49m\u001b[43mrequest_headers\u001b[49m\u001b[43m,\u001b[49m\n\u001b[1;32m    347\u001b[0m \u001b[43m        \u001b[49m\u001b[43mrequest_timeout\u001b[49m\u001b[38;5;241;43m=\u001b[39;49m\u001b[43mrequest_timeout\u001b[49m\u001b[43m,\u001b[49m\n\u001b[1;32m    348\u001b[0m \u001b[43m    \u001b[49m\u001b[43m)\u001b[49m\n\u001b[1;32m    349\u001b[0m     _logger\u001b[38;5;241m.\u001b[39minfo(\n\u001b[1;32m    350\u001b[0m         \u001b[38;5;124m\"\u001b[39m\u001b[38;5;132;01m%s\u001b[39;00m\u001b[38;5;124m \u001b[39m\u001b[38;5;132;01m%s\u001b[39;00m\u001b[38;5;132;01m%s\u001b[39;00m\u001b[38;5;124m [status:\u001b[39m\u001b[38;5;132;01m%s\u001b[39;00m\u001b[38;5;124m duration:\u001b[39m\u001b[38;5;132;01m%.3f\u001b[39;00m\u001b[38;5;124ms]\u001b[39m\u001b[38;5;124m\"\u001b[39m\n\u001b[1;32m    351\u001b[0m         \u001b[38;5;241m%\u001b[39m (\n\u001b[0;32m   (...)\u001b[0m\n\u001b[1;32m    357\u001b[0m         )\n\u001b[1;32m    358\u001b[0m     )\n\u001b[1;32m    360\u001b[0m     \u001b[38;5;28;01mif\u001b[39;00m method \u001b[38;5;241m!=\u001b[39m \u001b[38;5;124m\"\u001b[39m\u001b[38;5;124mHEAD\u001b[39m\u001b[38;5;124m\"\u001b[39m:\n",
      "File \u001b[0;32m~/Documents/cirec-01-llm-falcon/env/lib/python3.12/site-packages/elastic_transport/_node/_http_urllib3.py:167\u001b[0m, in \u001b[0;36mUrllib3HttpNode.perform_request\u001b[0;34m(self, method, target, body, headers, request_timeout)\u001b[0m\n\u001b[1;32m    164\u001b[0m \u001b[38;5;28;01melse\u001b[39;00m:\n\u001b[1;32m    165\u001b[0m     body_to_send \u001b[38;5;241m=\u001b[39m \u001b[38;5;28;01mNone\u001b[39;00m\n\u001b[0;32m--> 167\u001b[0m response \u001b[38;5;241m=\u001b[39m \u001b[38;5;28;43mself\u001b[39;49m\u001b[38;5;241;43m.\u001b[39;49m\u001b[43mpool\u001b[49m\u001b[38;5;241;43m.\u001b[39;49m\u001b[43murlopen\u001b[49m\u001b[43m(\u001b[49m\n\u001b[1;32m    168\u001b[0m \u001b[43m    \u001b[49m\u001b[43mmethod\u001b[49m\u001b[43m,\u001b[49m\n\u001b[1;32m    169\u001b[0m \u001b[43m    \u001b[49m\u001b[43mtarget\u001b[49m\u001b[43m,\u001b[49m\n\u001b[1;32m    170\u001b[0m \u001b[43m    \u001b[49m\u001b[43mbody\u001b[49m\u001b[38;5;241;43m=\u001b[39;49m\u001b[43mbody_to_send\u001b[49m\u001b[43m,\u001b[49m\n\u001b[1;32m    171\u001b[0m \u001b[43m    \u001b[49m\u001b[43mretries\u001b[49m\u001b[38;5;241;43m=\u001b[39;49m\u001b[43mRetry\u001b[49m\u001b[43m(\u001b[49m\u001b[38;5;28;43;01mFalse\u001b[39;49;00m\u001b[43m)\u001b[49m\u001b[43m,\u001b[49m\n\u001b[1;32m    172\u001b[0m \u001b[43m    \u001b[49m\u001b[43mheaders\u001b[49m\u001b[38;5;241;43m=\u001b[39;49m\u001b[43mrequest_headers\u001b[49m\u001b[43m,\u001b[49m\n\u001b[1;32m    173\u001b[0m \u001b[43m    \u001b[49m\u001b[38;5;241;43m*\u001b[39;49m\u001b[38;5;241;43m*\u001b[39;49m\u001b[43mkw\u001b[49m\u001b[43m,\u001b[49m\u001b[43m  \u001b[49m\u001b[38;5;66;43;03m# type: ignore[arg-type]\u001b[39;49;00m\n\u001b[1;32m    174\u001b[0m \u001b[43m\u001b[49m\u001b[43m)\u001b[49m\n\u001b[1;32m    175\u001b[0m response_headers \u001b[38;5;241m=\u001b[39m HttpHeaders(response\u001b[38;5;241m.\u001b[39mheaders)\n\u001b[1;32m    176\u001b[0m data \u001b[38;5;241m=\u001b[39m response\u001b[38;5;241m.\u001b[39mdata\n",
      "File \u001b[0;32m~/Documents/cirec-01-llm-falcon/env/lib/python3.12/site-packages/urllib3/connectionpool.py:787\u001b[0m, in \u001b[0;36mHTTPConnectionPool.urlopen\u001b[0;34m(self, method, url, body, headers, retries, redirect, assert_same_host, timeout, pool_timeout, release_conn, chunked, body_pos, preload_content, decode_content, **response_kw)\u001b[0m\n\u001b[1;32m    784\u001b[0m response_conn \u001b[38;5;241m=\u001b[39m conn \u001b[38;5;28;01mif\u001b[39;00m \u001b[38;5;129;01mnot\u001b[39;00m release_conn \u001b[38;5;28;01melse\u001b[39;00m \u001b[38;5;28;01mNone\u001b[39;00m\n\u001b[1;32m    786\u001b[0m \u001b[38;5;66;03m# Make the request on the HTTPConnection object\u001b[39;00m\n\u001b[0;32m--> 787\u001b[0m response \u001b[38;5;241m=\u001b[39m \u001b[38;5;28;43mself\u001b[39;49m\u001b[38;5;241;43m.\u001b[39;49m\u001b[43m_make_request\u001b[49m\u001b[43m(\u001b[49m\n\u001b[1;32m    788\u001b[0m \u001b[43m    \u001b[49m\u001b[43mconn\u001b[49m\u001b[43m,\u001b[49m\n\u001b[1;32m    789\u001b[0m \u001b[43m    \u001b[49m\u001b[43mmethod\u001b[49m\u001b[43m,\u001b[49m\n\u001b[1;32m    790\u001b[0m \u001b[43m    \u001b[49m\u001b[43murl\u001b[49m\u001b[43m,\u001b[49m\n\u001b[1;32m    791\u001b[0m \u001b[43m    \u001b[49m\u001b[43mtimeout\u001b[49m\u001b[38;5;241;43m=\u001b[39;49m\u001b[43mtimeout_obj\u001b[49m\u001b[43m,\u001b[49m\n\u001b[1;32m    792\u001b[0m \u001b[43m    \u001b[49m\u001b[43mbody\u001b[49m\u001b[38;5;241;43m=\u001b[39;49m\u001b[43mbody\u001b[49m\u001b[43m,\u001b[49m\n\u001b[1;32m    793\u001b[0m \u001b[43m    \u001b[49m\u001b[43mheaders\u001b[49m\u001b[38;5;241;43m=\u001b[39;49m\u001b[43mheaders\u001b[49m\u001b[43m,\u001b[49m\n\u001b[1;32m    794\u001b[0m \u001b[43m    \u001b[49m\u001b[43mchunked\u001b[49m\u001b[38;5;241;43m=\u001b[39;49m\u001b[43mchunked\u001b[49m\u001b[43m,\u001b[49m\n\u001b[1;32m    795\u001b[0m \u001b[43m    \u001b[49m\u001b[43mretries\u001b[49m\u001b[38;5;241;43m=\u001b[39;49m\u001b[43mretries\u001b[49m\u001b[43m,\u001b[49m\n\u001b[1;32m    796\u001b[0m \u001b[43m    \u001b[49m\u001b[43mresponse_conn\u001b[49m\u001b[38;5;241;43m=\u001b[39;49m\u001b[43mresponse_conn\u001b[49m\u001b[43m,\u001b[49m\n\u001b[1;32m    797\u001b[0m \u001b[43m    \u001b[49m\u001b[43mpreload_content\u001b[49m\u001b[38;5;241;43m=\u001b[39;49m\u001b[43mpreload_content\u001b[49m\u001b[43m,\u001b[49m\n\u001b[1;32m    798\u001b[0m \u001b[43m    \u001b[49m\u001b[43mdecode_content\u001b[49m\u001b[38;5;241;43m=\u001b[39;49m\u001b[43mdecode_content\u001b[49m\u001b[43m,\u001b[49m\n\u001b[1;32m    799\u001b[0m \u001b[43m    \u001b[49m\u001b[38;5;241;43m*\u001b[39;49m\u001b[38;5;241;43m*\u001b[39;49m\u001b[43mresponse_kw\u001b[49m\u001b[43m,\u001b[49m\n\u001b[1;32m    800\u001b[0m \u001b[43m\u001b[49m\u001b[43m)\u001b[49m\n\u001b[1;32m    802\u001b[0m \u001b[38;5;66;03m# Everything went great!\u001b[39;00m\n\u001b[1;32m    803\u001b[0m clean_exit \u001b[38;5;241m=\u001b[39m \u001b[38;5;28;01mTrue\u001b[39;00m\n",
      "File \u001b[0;32m~/Documents/cirec-01-llm-falcon/env/lib/python3.12/site-packages/urllib3/connectionpool.py:534\u001b[0m, in \u001b[0;36mHTTPConnectionPool._make_request\u001b[0;34m(self, conn, method, url, body, headers, retries, timeout, chunked, response_conn, preload_content, decode_content, enforce_content_length)\u001b[0m\n\u001b[1;32m    532\u001b[0m \u001b[38;5;66;03m# Receive the response from the server\u001b[39;00m\n\u001b[1;32m    533\u001b[0m \u001b[38;5;28;01mtry\u001b[39;00m:\n\u001b[0;32m--> 534\u001b[0m     response \u001b[38;5;241m=\u001b[39m \u001b[43mconn\u001b[49m\u001b[38;5;241;43m.\u001b[39;49m\u001b[43mgetresponse\u001b[49m\u001b[43m(\u001b[49m\u001b[43m)\u001b[49m\n\u001b[1;32m    535\u001b[0m \u001b[38;5;28;01mexcept\u001b[39;00m (BaseSSLError, \u001b[38;5;167;01mOSError\u001b[39;00m) \u001b[38;5;28;01mas\u001b[39;00m e:\n\u001b[1;32m    536\u001b[0m     \u001b[38;5;28mself\u001b[39m\u001b[38;5;241m.\u001b[39m_raise_timeout(err\u001b[38;5;241m=\u001b[39me, url\u001b[38;5;241m=\u001b[39murl, timeout_value\u001b[38;5;241m=\u001b[39mread_timeout)\n",
      "File \u001b[0;32m~/Documents/cirec-01-llm-falcon/env/lib/python3.12/site-packages/urllib3/connection.py:516\u001b[0m, in \u001b[0;36mHTTPConnection.getresponse\u001b[0;34m(self)\u001b[0m\n\u001b[1;32m    513\u001b[0m _shutdown \u001b[38;5;241m=\u001b[39m \u001b[38;5;28mgetattr\u001b[39m(\u001b[38;5;28mself\u001b[39m\u001b[38;5;241m.\u001b[39msock, \u001b[38;5;124m\"\u001b[39m\u001b[38;5;124mshutdown\u001b[39m\u001b[38;5;124m\"\u001b[39m, \u001b[38;5;28;01mNone\u001b[39;00m)\n\u001b[1;32m    515\u001b[0m \u001b[38;5;66;03m# Get the response from http.client.HTTPConnection\u001b[39;00m\n\u001b[0;32m--> 516\u001b[0m httplib_response \u001b[38;5;241m=\u001b[39m \u001b[38;5;28;43msuper\u001b[39;49m\u001b[43m(\u001b[49m\u001b[43m)\u001b[49m\u001b[38;5;241;43m.\u001b[39;49m\u001b[43mgetresponse\u001b[49m\u001b[43m(\u001b[49m\u001b[43m)\u001b[49m\n\u001b[1;32m    518\u001b[0m \u001b[38;5;28;01mtry\u001b[39;00m:\n\u001b[1;32m    519\u001b[0m     assert_header_parsing(httplib_response\u001b[38;5;241m.\u001b[39mmsg)\n",
      "File \u001b[0;32m/usr/lib/python3.12/http/client.py:1428\u001b[0m, in \u001b[0;36mHTTPConnection.getresponse\u001b[0;34m(self)\u001b[0m\n\u001b[1;32m   1426\u001b[0m \u001b[38;5;28;01mtry\u001b[39;00m:\n\u001b[1;32m   1427\u001b[0m     \u001b[38;5;28;01mtry\u001b[39;00m:\n\u001b[0;32m-> 1428\u001b[0m         \u001b[43mresponse\u001b[49m\u001b[38;5;241;43m.\u001b[39;49m\u001b[43mbegin\u001b[49m\u001b[43m(\u001b[49m\u001b[43m)\u001b[49m\n\u001b[1;32m   1429\u001b[0m     \u001b[38;5;28;01mexcept\u001b[39;00m \u001b[38;5;167;01mConnectionError\u001b[39;00m:\n\u001b[1;32m   1430\u001b[0m         \u001b[38;5;28mself\u001b[39m\u001b[38;5;241m.\u001b[39mclose()\n",
      "File \u001b[0;32m/usr/lib/python3.12/http/client.py:331\u001b[0m, in \u001b[0;36mHTTPResponse.begin\u001b[0;34m(self)\u001b[0m\n\u001b[1;32m    329\u001b[0m \u001b[38;5;66;03m# read until we get a non-100 response\u001b[39;00m\n\u001b[1;32m    330\u001b[0m \u001b[38;5;28;01mwhile\u001b[39;00m \u001b[38;5;28;01mTrue\u001b[39;00m:\n\u001b[0;32m--> 331\u001b[0m     version, status, reason \u001b[38;5;241m=\u001b[39m \u001b[38;5;28;43mself\u001b[39;49m\u001b[38;5;241;43m.\u001b[39;49m\u001b[43m_read_status\u001b[49m\u001b[43m(\u001b[49m\u001b[43m)\u001b[49m\n\u001b[1;32m    332\u001b[0m     \u001b[38;5;28;01mif\u001b[39;00m status \u001b[38;5;241m!=\u001b[39m CONTINUE:\n\u001b[1;32m    333\u001b[0m         \u001b[38;5;28;01mbreak\u001b[39;00m\n",
      "File \u001b[0;32m/usr/lib/python3.12/http/client.py:292\u001b[0m, in \u001b[0;36mHTTPResponse._read_status\u001b[0;34m(self)\u001b[0m\n\u001b[1;32m    291\u001b[0m \u001b[38;5;28;01mdef\u001b[39;00m\u001b[38;5;250m \u001b[39m\u001b[38;5;21m_read_status\u001b[39m(\u001b[38;5;28mself\u001b[39m):\n\u001b[0;32m--> 292\u001b[0m     line \u001b[38;5;241m=\u001b[39m \u001b[38;5;28mstr\u001b[39m(\u001b[38;5;28;43mself\u001b[39;49m\u001b[38;5;241;43m.\u001b[39;49m\u001b[43mfp\u001b[49m\u001b[38;5;241;43m.\u001b[39;49m\u001b[43mreadline\u001b[49m\u001b[43m(\u001b[49m\u001b[43m_MAXLINE\u001b[49m\u001b[43m \u001b[49m\u001b[38;5;241;43m+\u001b[39;49m\u001b[43m \u001b[49m\u001b[38;5;241;43m1\u001b[39;49m\u001b[43m)\u001b[49m, \u001b[38;5;124m\"\u001b[39m\u001b[38;5;124miso-8859-1\u001b[39m\u001b[38;5;124m\"\u001b[39m)\n\u001b[1;32m    293\u001b[0m     \u001b[38;5;28;01mif\u001b[39;00m \u001b[38;5;28mlen\u001b[39m(line) \u001b[38;5;241m>\u001b[39m _MAXLINE:\n\u001b[1;32m    294\u001b[0m         \u001b[38;5;28;01mraise\u001b[39;00m LineTooLong(\u001b[38;5;124m\"\u001b[39m\u001b[38;5;124mstatus line\u001b[39m\u001b[38;5;124m\"\u001b[39m)\n",
      "File \u001b[0;32m/usr/lib/python3.12/socket.py:707\u001b[0m, in \u001b[0;36mSocketIO.readinto\u001b[0;34m(self, b)\u001b[0m\n\u001b[1;32m    705\u001b[0m \u001b[38;5;28;01mwhile\u001b[39;00m \u001b[38;5;28;01mTrue\u001b[39;00m:\n\u001b[1;32m    706\u001b[0m     \u001b[38;5;28;01mtry\u001b[39;00m:\n\u001b[0;32m--> 707\u001b[0m         \u001b[38;5;28;01mreturn\u001b[39;00m \u001b[38;5;28;43mself\u001b[39;49m\u001b[38;5;241;43m.\u001b[39;49m\u001b[43m_sock\u001b[49m\u001b[38;5;241;43m.\u001b[39;49m\u001b[43mrecv_into\u001b[49m\u001b[43m(\u001b[49m\u001b[43mb\u001b[49m\u001b[43m)\u001b[49m\n\u001b[1;32m    708\u001b[0m     \u001b[38;5;28;01mexcept\u001b[39;00m timeout:\n\u001b[1;32m    709\u001b[0m         \u001b[38;5;28mself\u001b[39m\u001b[38;5;241m.\u001b[39m_timeout_occurred \u001b[38;5;241m=\u001b[39m \u001b[38;5;28;01mTrue\u001b[39;00m\n",
      "\u001b[0;31mKeyboardInterrupt\u001b[0m: "
     ]
    }
   ],
   "source": [
    "for doc in tqdm(operations):\n",
    "    try:\n",
    "        search_client.index(index=index_name, document=doc)\n",
    "    except Exception as e:\n",
    "        print(e)"
   ]
  },
  {
   "cell_type": "code",
   "execution_count": 86,
   "metadata": {},
   "outputs": [],
   "source": [
    "search_term = \"Tell me about Angels, Are they servants or messengers?\"\n",
    "vector_search_term = model.encode(search_term)"
   ]
  },
  {
   "cell_type": "code",
   "execution_count": 90,
   "metadata": {},
   "outputs": [],
   "source": [
    "query = {\n",
    "    \"field\": \"answer_embedding\",\n",
    "    \"query_vector\": vector_search_term,\n",
    "    \"k\": 5,\n",
    "    \"num_candidates\": 10000\n",
    "}"
   ]
  },
  {
   "cell_type": "code",
   "execution_count": 91,
   "metadata": {},
   "outputs": [],
   "source": [
    "results = []\n",
    "\n",
    "response = search_client.search(index=index_name, knn=query, source=[\"category\", \"sub.category\", \"question\", \"answer\"])\n",
    "results.extend(hits['_source'] for hits in response['hits']['hits'])"
   ]
  },
  {
   "cell_type": "code",
   "execution_count": 93,
   "metadata": {},
   "outputs": [
    {
     "name": "stdout",
     "output_type": "stream",
     "text": [
      "Angels act as messengers, bringing the word of God to people (Matthew 1:20; 2:13; Luke 1:11–20; Acts 1:10–11; 8:26).  They are also ministering spirits sent to serve those who will inherit salvation (Hebrews 1:14).\n",
      "\n"
     ]
    }
   ],
   "source": [
    "prompt = build_prompt(search_term, results)\n",
    "answer = llm(prompt)\n",
    "print(answer)"
   ]
  },
  {
   "cell_type": "code",
   "execution_count": null,
   "metadata": {},
   "outputs": [],
   "source": [
    "# HYBRID SEARCH\n"
   ]
  }
 ],
 "metadata": {
  "kernelspec": {
   "display_name": "cirec-01-llm-falcon-KwmbxNdi-py3.12",
   "language": "python",
   "name": "python3"
  },
  "language_info": {
   "codemirror_mode": {
    "name": "ipython",
    "version": 3
   },
   "file_extension": ".py",
   "mimetype": "text/x-python",
   "name": "python",
   "nbconvert_exporter": "python",
   "pygments_lexer": "ipython3",
   "version": "3.12.3"
  }
 },
 "nbformat": 4,
 "nbformat_minor": 2
}
